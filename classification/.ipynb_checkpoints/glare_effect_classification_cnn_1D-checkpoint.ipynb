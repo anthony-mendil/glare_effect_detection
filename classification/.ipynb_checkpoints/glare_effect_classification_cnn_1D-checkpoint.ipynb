{
 "cells": [
  {
   "cell_type": "code",
   "execution_count": 2,
   "metadata": {},
   "outputs": [],
   "source": [
    "import numpy as np\n",
    "import matplotlib.pyplot as plt\n",
    "from sklearn.model_selection import StratifiedKFold\n",
    "from sklearn.preprocessing import LabelEncoder\n",
    "\n",
    "import keras\n",
    "from keras.layers import Conv1D, Dense, Dropout, Input, Concatenate, GlobalMaxPooling1D, MaxPooling1D, Flatten\n",
    "from keras.models import Model, Sequential"
   ]
  },
  {
   "cell_type": "code",
   "execution_count": 7,
   "metadata": {},
   "outputs": [],
   "source": [
    "realData_train = np.load('C:\\\\Users\\\\dylin\\\\Documents\\\\BA_Glare_Effect\\\\classification_data\\\\features\\\\real\\\\Split1\\\\for_simulation\\\\realData_train.npy')\n",
    "X_realData_train = np.load('C:\\\\Users\\\\dylin\\\\Documents\\\\BA_Glare_Effect\\\\classification_data\\\\features\\\\real\\\\Split1\\\\for_simulation\\\\X_realData_train.npy')\n",
    "y_realData_train = np.load('C:\\\\Users\\\\dylin\\\\Documents\\\\BA_Glare_Effect\\\\classification_data\\\\features\\\\real\\\\Split1\\\\for_simulation\\\\y_realData_train.npy')\n",
    "realData_test = np.load('C:\\\\Users\\\\dylin\\\\Documents\\\\BA_Glare_Effect\\\\classification_data\\\\features\\\\real\\\\Split1\\\\for_testing\\\\realData_test.npy')\n",
    "X_realData_test = np.load('C:\\\\Users\\\\dylin\\\\Documents\\\\BA_Glare_Effect\\\\classification_data\\\\features\\\\real\\\\Split1\\\\for_testing\\\\X_realData_test.npy')\n",
    "y_realData_test = np.load('C:\\\\Users\\\\dylin\\\\Documents\\\\BA_Glare_Effect\\\\classification_data\\\\features\\\\real\\\\Split1\\\\for_testing\\\\y_realData_test.npy')"
   ]
  },
  {
   "cell_type": "code",
   "execution_count": 9,
   "metadata": {},
   "outputs": [
    {
     "data": {
      "text/plain": [
       "array([[1.1, 2.1, 3.1, ..., 0. , 0. , 0. ],\n",
       "       [1.1, 2.1, 3.1, ..., 0. , 0. , 0. ],\n",
       "       [1.1, 2.1, 3.1, ..., 3.2, 1.2, 1. ],\n",
       "       ...,\n",
       "       [1.1, 2.1, 3.1, ..., 5.2, 2.2, 1. ],\n",
       "       [1.1, 2.1, 3.1, ..., 0. , 0. , 0. ],\n",
       "       [1.1, 2.1, 3.1, ..., 0. , 0. , 0. ]])"
      ]
     },
     "execution_count": 9,
     "metadata": {},
     "output_type": "execute_result"
    }
   ],
   "source": [
    "realData_train"
   ]
  },
  {
   "cell_type": "code",
   "execution_count": 10,
   "metadata": {},
   "outputs": [
    {
     "data": {
      "text/plain": [
       "array([[[ 1.1, 14. , 13. ,  1. ,  0. ],\n",
       "        [ 2.1, 14. , 12. ,  1. ,  0. ],\n",
       "        [ 3.1, 14. , 11. ,  1. ,  0. ],\n",
       "        ...,\n",
       "        [ 0. ,  0. ,  0. ,  3. , 10. ],\n",
       "        [ 0. ,  0. ,  0. ,  3. , 11. ],\n",
       "        [ 0. ,  0. ,  0. ,  3. , 12. ]],\n",
       "\n",
       "       [[ 1.1, 14. , 13. ,  1. ,  0. ],\n",
       "        [ 2.1, 14. , 12. ,  1. ,  0. ],\n",
       "        [ 3.1, 14. , 11. ,  1. ,  0. ],\n",
       "        ...,\n",
       "        [ 0. ,  0. ,  0. ,  3. , 12. ],\n",
       "        [ 0. ,  0. ,  0. ,  3. , 13. ],\n",
       "        [ 0. ,  0. ,  0. ,  3. , 14. ]],\n",
       "\n",
       "       [[ 1.1, 14. , 13. ,  1. ,  0. ],\n",
       "        [ 2.1, 14. , 12. ,  1. ,  0. ],\n",
       "        [ 3.1, 14. , 11. ,  1. ,  0. ],\n",
       "        ...,\n",
       "        [ 4.1, 10. ,  0. ,  6. ,  0. ],\n",
       "        [ 3.2, 10. ,  0. ,  6. ,  0. ],\n",
       "        [ 1.2, 10. ,  0. ,  6. ,  0. ]],\n",
       "\n",
       "       ...,\n",
       "\n",
       "       [[ 1.1, 14. , 13. ,  1. ,  0. ],\n",
       "        [ 2.1, 14. , 12. ,  1. ,  0. ],\n",
       "        [ 3.1, 14. , 11. ,  1. ,  0. ],\n",
       "        ...,\n",
       "        [ 6.2,  8. ,  0. ,  5. ,  0. ],\n",
       "        [ 5.2,  8. ,  0. ,  5. ,  0. ],\n",
       "        [ 2.2,  8. ,  0. ,  5. ,  0. ]],\n",
       "\n",
       "       [[ 1.1, 14. , 13. ,  1. ,  0. ],\n",
       "        [ 2.1, 14. , 12. ,  1. ,  0. ],\n",
       "        [ 3.1, 14. , 11. ,  1. ,  0. ],\n",
       "        ...,\n",
       "        [ 0. ,  0. ,  0. ,  4. , 12. ],\n",
       "        [ 0. ,  0. ,  0. ,  4. , 13. ],\n",
       "        [ 0. ,  0. ,  0. ,  4. , 14. ]],\n",
       "\n",
       "       [[ 1.1, 14. , 13. ,  1. ,  0. ],\n",
       "        [ 2.1, 14. , 12. ,  1. ,  0. ],\n",
       "        [ 3.1, 14. , 11. ,  1. ,  0. ],\n",
       "        ...,\n",
       "        [ 0. ,  0. ,  0. ,  4. ,  4. ],\n",
       "        [ 0. ,  0. ,  0. ,  4. ,  5. ],\n",
       "        [ 0. ,  0. ,  0. ,  4. ,  6. ]]])"
      ]
     },
     "execution_count": 10,
     "metadata": {},
     "output_type": "execute_result"
    }
   ],
   "source": [
    "X_realData_train"
   ]
  },
  {
   "cell_type": "code",
   "execution_count": 11,
   "metadata": {},
   "outputs": [
    {
     "data": {
      "text/plain": [
       "array([[1., 0.],\n",
       "       [1., 0.],\n",
       "       [0., 1.],\n",
       "       [1., 0.],\n",
       "       [0., 1.],\n",
       "       [1., 0.],\n",
       "       [0., 1.],\n",
       "       [1., 0.],\n",
       "       [0., 1.],\n",
       "       [1., 0.],\n",
       "       [1., 0.],\n",
       "       [1., 0.],\n",
       "       [0., 1.],\n",
       "       [1., 0.],\n",
       "       [1., 0.],\n",
       "       [1., 0.],\n",
       "       [0., 1.],\n",
       "       [0., 1.],\n",
       "       [0., 1.],\n",
       "       [1., 0.],\n",
       "       [0., 1.],\n",
       "       [1., 0.],\n",
       "       [0., 1.],\n",
       "       [0., 1.],\n",
       "       [1., 0.],\n",
       "       [1., 0.],\n",
       "       [0., 1.],\n",
       "       [1., 0.],\n",
       "       [0., 1.],\n",
       "       [0., 1.],\n",
       "       [0., 1.],\n",
       "       [0., 1.],\n",
       "       [1., 0.],\n",
       "       [0., 1.],\n",
       "       [0., 1.],\n",
       "       [0., 1.],\n",
       "       [1., 0.],\n",
       "       [1., 0.]], dtype=float32)"
      ]
     },
     "execution_count": 11,
     "metadata": {},
     "output_type": "execute_result"
    }
   ],
   "source": [
    "y_realData_train"
   ]
  },
  {
   "cell_type": "code",
   "execution_count": 12,
   "metadata": {},
   "outputs": [
    {
     "data": {
      "text/plain": [
       "array([[1.1, 1.2, 2.1, 3.1, 4.1, 5.1, 5.2, 5.1, 6.1, 3.2, 3.1, 3.2, 6.2,\n",
       "        4.1, 2.2, 2.1, 7.1, 7.2, 4.2, 6.1, 4.1, 4.2, 6.2, 6.1, 0. , 0. ,\n",
       "        0. , 0. , 0. , 0. , 0. , 0. , 0. , 0. , 0. , 0. , 0. , 0. , 0. ,\n",
       "        0. , 0. ],\n",
       "       [1.1, 2.1, 3.1, 3.2, 4.1, 5.1, 4.2, 4.1, 6.1, 6.2, 5.2, 2.1, 2.2,\n",
       "        5.2, 1.1, 1.2, 7.1, 2.2, 5.2, 7.1, 5.1, 5.2, 7.2, 2.1, 2.2, 2.1,\n",
       "        7.1, 7.2, 0. , 0. , 0. , 0. , 0. , 0. , 0. , 0. , 0. , 0. , 0. ,\n",
       "        0. , 1. ]])"
      ]
     },
     "execution_count": 12,
     "metadata": {},
     "output_type": "execute_result"
    }
   ],
   "source": [
    "realData_test"
   ]
  },
  {
   "cell_type": "code",
   "execution_count": 13,
   "metadata": {},
   "outputs": [
    {
     "data": {
      "text/plain": [
       "array([[[ 1.1, 14. , 13. ,  1. ,  0. ],\n",
       "        [ 1.2, 12. , 12. ,  1. ,  0. ],\n",
       "        [ 2.1, 12. , 11. ,  1. ,  0. ],\n",
       "        [ 3.1, 12. , 10. ,  1. ,  0. ],\n",
       "        [ 4.1, 12. ,  9. ,  1. ,  0. ],\n",
       "        [ 5.1, 12. ,  8. ,  1. ,  0. ],\n",
       "        [ 5.2, 12. ,  7. ,  1. ,  0. ],\n",
       "        [ 5.1, 10. ,  7. ,  2. ,  0. ],\n",
       "        [ 6.1, 10. ,  6. ,  2. ,  0. ],\n",
       "        [ 3.2, 10. ,  5. ,  2. ,  0. ],\n",
       "        [ 3.1, 10. ,  5. ,  2. ,  0. ],\n",
       "        [ 3.2,  8. ,  5. ,  2. ,  0. ],\n",
       "        [ 6.2,  8. ,  4. ,  2. ,  0. ],\n",
       "        [ 4.1,  8. ,  4. ,  2. ,  0. ],\n",
       "        [ 2.2,  8. ,  3. ,  2. ,  0. ],\n",
       "        [ 2.1,  6. ,  3. ,  2. ,  0. ],\n",
       "        [ 7.1,  6. ,  2. ,  2. ,  0. ],\n",
       "        [ 7.2,  4. ,  1. ,  2. ,  0. ],\n",
       "        [ 4.2,  4. ,  0. ,  2. ,  0. ],\n",
       "        [ 6.1,  4. ,  0. ,  2. ,  0. ],\n",
       "        [ 4.1,  4. ,  0. ,  3. ,  0. ],\n",
       "        [ 4.2,  2. ,  0. ,  3. ,  0. ],\n",
       "        [ 6.2,  2. ,  0. ,  3. ,  0. ],\n",
       "        [ 6.1,  0. ,  0. ,  3. ,  0. ],\n",
       "        [ 0. ,  0. ,  0. ,  3. ,  1. ],\n",
       "        [ 0. ,  0. ,  0. ,  3. ,  2. ],\n",
       "        [ 0. ,  0. ,  0. ,  3. ,  3. ],\n",
       "        [ 0. ,  0. ,  0. ,  3. ,  4. ],\n",
       "        [ 0. ,  0. ,  0. ,  3. ,  5. ],\n",
       "        [ 0. ,  0. ,  0. ,  3. ,  6. ],\n",
       "        [ 0. ,  0. ,  0. ,  3. ,  7. ],\n",
       "        [ 0. ,  0. ,  0. ,  3. ,  8. ],\n",
       "        [ 0. ,  0. ,  0. ,  3. ,  9. ],\n",
       "        [ 0. ,  0. ,  0. ,  3. , 10. ],\n",
       "        [ 0. ,  0. ,  0. ,  3. , 11. ],\n",
       "        [ 0. ,  0. ,  0. ,  3. , 12. ],\n",
       "        [ 0. ,  0. ,  0. ,  3. , 13. ],\n",
       "        [ 0. ,  0. ,  0. ,  3. , 14. ],\n",
       "        [ 0. ,  0. ,  0. ,  3. , 15. ],\n",
       "        [ 0. ,  0. ,  0. ,  3. , 16. ]],\n",
       "\n",
       "       [[ 1.1, 14. , 13. ,  1. ,  0. ],\n",
       "        [ 2.1, 14. , 12. ,  1. ,  0. ],\n",
       "        [ 3.1, 14. , 11. ,  1. ,  0. ],\n",
       "        [ 3.2, 12. , 10. ,  1. ,  0. ],\n",
       "        [ 4.1, 12. ,  9. ,  1. ,  0. ],\n",
       "        [ 5.1, 12. ,  8. ,  1. ,  0. ],\n",
       "        [ 4.2, 12. ,  7. ,  1. ,  0. ],\n",
       "        [ 4.1, 10. ,  7. ,  2. ,  0. ],\n",
       "        [ 6.1, 10. ,  6. ,  2. ,  0. ],\n",
       "        [ 6.2,  8. ,  5. ,  2. ,  0. ],\n",
       "        [ 5.2,  8. ,  4. ,  2. ,  0. ],\n",
       "        [ 2.1,  8. ,  4. ,  2. ,  0. ],\n",
       "        [ 2.2,  8. ,  3. ,  2. ,  0. ],\n",
       "        [ 5.2,  8. ,  3. ,  2. ,  0. ],\n",
       "        [ 1.1,  8. ,  3. ,  2. ,  0. ],\n",
       "        [ 1.2,  6. ,  2. ,  2. ,  0. ],\n",
       "        [ 7.1,  6. ,  1. ,  2. ,  0. ],\n",
       "        [ 2.2,  6. ,  1. ,  2. ,  0. ],\n",
       "        [ 5.2,  6. ,  1. ,  3. ,  0. ],\n",
       "        [ 7.1,  6. ,  1. ,  3. ,  0. ],\n",
       "        [ 5.1,  6. ,  1. ,  3. ,  0. ],\n",
       "        [ 5.2,  4. ,  1. ,  4. ,  0. ],\n",
       "        [ 7.2,  4. ,  0. ,  4. ,  0. ],\n",
       "        [ 2.1,  4. ,  0. ,  4. ,  0. ],\n",
       "        [ 2.2,  4. ,  0. ,  4. ,  0. ],\n",
       "        [ 2.1,  2. ,  0. ,  4. ,  0. ],\n",
       "        [ 7.1,  2. ,  0. ,  4. ,  0. ],\n",
       "        [ 7.2,  0. ,  0. ,  4. ,  0. ],\n",
       "        [ 0. ,  0. ,  0. ,  4. ,  1. ],\n",
       "        [ 0. ,  0. ,  0. ,  4. ,  2. ],\n",
       "        [ 0. ,  0. ,  0. ,  4. ,  3. ],\n",
       "        [ 0. ,  0. ,  0. ,  4. ,  4. ],\n",
       "        [ 0. ,  0. ,  0. ,  4. ,  5. ],\n",
       "        [ 0. ,  0. ,  0. ,  4. ,  6. ],\n",
       "        [ 0. ,  0. ,  0. ,  4. ,  7. ],\n",
       "        [ 0. ,  0. ,  0. ,  4. ,  8. ],\n",
       "        [ 0. ,  0. ,  0. ,  4. ,  9. ],\n",
       "        [ 0. ,  0. ,  0. ,  4. , 10. ],\n",
       "        [ 0. ,  0. ,  0. ,  4. , 11. ],\n",
       "        [ 0. ,  0. ,  0. ,  4. , 12. ]]])"
      ]
     },
     "execution_count": 13,
     "metadata": {},
     "output_type": "execute_result"
    }
   ],
   "source": [
    "X_realData_test"
   ]
  },
  {
   "cell_type": "code",
   "execution_count": 14,
   "metadata": {},
   "outputs": [
    {
     "data": {
      "text/plain": [
       "array([[1., 0.],\n",
       "       [0., 1.]], dtype=float32)"
      ]
     },
     "execution_count": 14,
     "metadata": {},
     "output_type": "execute_result"
    }
   ],
   "source": [
    "y_realData_test"
   ]
  }
 ],
 "metadata": {
  "kernelspec": {
   "display_name": "Python 3",
   "language": "python",
   "name": "python3"
  },
  "language_info": {
   "codemirror_mode": {
    "name": "ipython",
    "version": 3
   },
   "file_extension": ".py",
   "mimetype": "text/x-python",
   "name": "python",
   "nbconvert_exporter": "python",
   "pygments_lexer": "ipython3",
   "version": "3.7.6"
  }
 },
 "nbformat": 4,
 "nbformat_minor": 4
}
