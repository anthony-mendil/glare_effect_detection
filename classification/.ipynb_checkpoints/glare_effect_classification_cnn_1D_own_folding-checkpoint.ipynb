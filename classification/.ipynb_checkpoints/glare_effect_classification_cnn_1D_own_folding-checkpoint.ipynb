{
 "cells": [
  {
   "cell_type": "code",
   "execution_count": 501,
   "metadata": {},
   "outputs": [],
   "source": [
    "import numpy as np\n",
    "from sklearn.model_selection import train_test_split\n",
    "import matplotlib.pyplot as plt\n",
    "\n",
    "from keras.layers import Conv1D, Dense, Dropout, Input, Concatenate, GlobalMaxPooling1D, MaxPooling1D, Flatten\n",
    "from keras.models import Model, Sequential"
   ]
  },
  {
   "cell_type": "code",
   "execution_count": 502,
   "metadata": {},
   "outputs": [],
   "source": [
    "realData = np.load('C:\\\\Users\\\\dylin\\\\Documents\\\\BA_Glare_Effect\\\\classification_data\\\\real\\\\realData.npy')\n",
    "X_realData = np.load('C:\\\\Users\\\\dylin\\\\Documents\\\\BA_Glare_Effect\\\\classification_data\\\\real\\\\X_realData.npy')\n",
    "y_realData = np.load('C:\\\\Users\\\\dylin\\\\Documents\\\\BA_Glare_Effect\\\\classification_data\\\\real\\\\y_realData.npy')"
   ]
  },
  {
   "cell_type": "code",
   "execution_count": 503,
   "metadata": {},
   "outputs": [],
   "source": [
    "X_train, X_test, y_train, y_test = train_test_split(X_realData, y_realData, test_size=0.4, random_state=42)"
   ]
  },
  {
   "cell_type": "code",
   "execution_count": 504,
   "metadata": {},
   "outputs": [
    {
     "data": {
      "text/plain": [
       "array([[[ 1.1, 14. , 13. ,  1. ,  0. ],\n",
       "        [ 2.1, 14. , 12. ,  1. ,  0. ],\n",
       "        [ 3.1, 14. , 11. ,  1. ,  0. ],\n",
       "        [ 4.1, 14. , 10. ,  1. ,  0. ],\n",
       "        [ 3.1, 14. , 10. ,  2. ,  0. ],\n",
       "        [ 5.1, 14. ,  9. ,  2. ,  0. ],\n",
       "        [ 6.1, 14. ,  8. ,  2. ,  0. ],\n",
       "        [ 7.1, 14. ,  7. ,  2. ,  0. ],\n",
       "        [ 7.2, 14. ,  6. ,  2. ,  0. ],\n",
       "        [ 7.1, 12. ,  6. ,  2. ,  0. ],\n",
       "        [ 1.2, 12. ,  5. ,  2. ,  0. ],\n",
       "        [ 1.1, 10. ,  5. ,  2. ,  0. ],\n",
       "        [ 3.2, 10. ,  4. ,  2. ,  0. ],\n",
       "        [ 4.1, 10. ,  4. ,  2. ,  0. ],\n",
       "        [ 3.1, 10. ,  4. ,  3. ,  0. ],\n",
       "        [ 4.2, 10. ,  3. ,  3. ,  0. ],\n",
       "        [ 4.1, 10. ,  3. ,  3. ,  0. ],\n",
       "        [ 4.2,  8. ,  3. ,  3. ,  0. ],\n",
       "        [ 6.2,  8. ,  2. ,  3. ,  0. ],\n",
       "        [ 5.2,  8. ,  1. ,  3. ,  0. ],\n",
       "        [ 3.1,  8. ,  1. ,  4. ,  0. ],\n",
       "        [ 6.2,  8. ,  1. ,  4. ,  0. ],\n",
       "        [ 5.1,  8. ,  1. ,  4. ,  0. ],\n",
       "        [ 3.2,  8. ,  1. ,  4. ,  0. ],\n",
       "        [ 6.1,  8. ,  1. ,  4. ,  0. ],\n",
       "        [ 5.1,  8. ,  1. ,  4. ,  0. ],\n",
       "        [ 3.2,  8. ,  1. ,  4. ,  0. ],\n",
       "        [ 5.1,  8. ,  1. ,  4. ,  0. ],\n",
       "        [ 3.2,  8. ,  1. ,  4. ,  0. ],\n",
       "        [ 6.1,  8. ,  1. ,  4. ,  0. ],\n",
       "        [ 2.2,  8. ,  0. ,  4. ,  0. ],\n",
       "        [ 6.1,  8. ,  0. ,  4. ,  0. ],\n",
       "        [ 2.2,  8. ,  0. ,  4. ,  0. ],\n",
       "        [ 5.1,  8. ,  0. ,  5. ,  0. ],\n",
       "        [ 2.2,  8. ,  0. ,  5. ,  0. ],\n",
       "        [ 6.2,  8. ,  0. ,  5. ,  0. ],\n",
       "        [ 5.2,  8. ,  0. ,  5. ,  0. ],\n",
       "        [ 2.2,  8. ,  0. ,  5. ,  0. ],\n",
       "        [ 2.1,  8. ,  0. ,  5. ,  0. ],\n",
       "        [ 2.2,  6. ,  0. ,  5. ,  0. ]],\n",
       "\n",
       "       [[ 1.1, 14. , 13. ,  1. ,  0. ],\n",
       "        [ 2.1, 14. , 12. ,  1. ,  0. ],\n",
       "        [ 3.1, 14. , 11. ,  1. ,  0. ],\n",
       "        [ 2.2, 14. , 10. ,  1. ,  0. ],\n",
       "        [ 4.1, 14. ,  9. ,  1. ,  0. ],\n",
       "        [ 3.1, 14. ,  9. ,  2. ,  0. ],\n",
       "        [ 3.1, 14. ,  9. ,  3. ,  0. ],\n",
       "        [ 4.2, 14. ,  8. ,  3. ,  0. ],\n",
       "        [ 5.1, 14. ,  7. ,  3. ,  0. ],\n",
       "        [ 6.1, 14. ,  6. ,  3. ,  0. ],\n",
       "        [ 2.2, 14. ,  6. ,  3. ,  0. ],\n",
       "        [ 3.2, 14. ,  5. ,  3. ,  0. ],\n",
       "        [ 4.1, 14. ,  5. ,  3. ,  0. ],\n",
       "        [ 5.1, 14. ,  5. ,  3. ,  0. ],\n",
       "        [ 5.2, 14. ,  4. ,  3. ,  0. ],\n",
       "        [ 1.2, 14. ,  3. ,  3. ,  0. ],\n",
       "        [ 7.1, 14. ,  2. ,  3. ,  0. ],\n",
       "        [ 4.1, 14. ,  2. ,  3. ,  0. ],\n",
       "        [ 3.2, 14. ,  2. ,  3. ,  0. ],\n",
       "        [ 3.1, 12. ,  2. ,  4. ,  0. ],\n",
       "        [ 7.2, 12. ,  1. ,  4. ,  0. ],\n",
       "        [ 5.1, 12. ,  1. ,  4. ,  0. ],\n",
       "        [ 1.1, 12. ,  1. ,  4. ,  0. ],\n",
       "        [ 6.2, 12. ,  0. ,  4. ,  0. ],\n",
       "        [ 5.1, 12. ,  0. ,  4. ,  0. ],\n",
       "        [ 4.2, 12. ,  0. ,  4. ,  0. ],\n",
       "        [ 7.2, 12. ,  0. ,  4. ,  0. ],\n",
       "        [ 4.2, 12. ,  0. ,  4. ,  0. ],\n",
       "        [ 4.1, 12. ,  0. ,  4. ,  0. ],\n",
       "        [ 4.2, 10. ,  0. ,  4. ,  0. ],\n",
       "        [ 6.2, 10. ,  0. ,  4. ,  0. ],\n",
       "        [ 7.1, 10. ,  0. ,  4. ,  0. ],\n",
       "        [ 1.2, 10. ,  0. ,  4. ,  0. ],\n",
       "        [ 2.1, 10. ,  0. ,  4. ,  0. ],\n",
       "        [ 7.2, 10. ,  0. ,  4. ,  0. ],\n",
       "        [ 1.1, 10. ,  0. ,  4. ,  0. ],\n",
       "        [ 1.2, 10. ,  0. ,  4. ,  0. ],\n",
       "        [ 6.2, 10. ,  0. ,  4. ,  0. ],\n",
       "        [ 2.2, 10. ,  0. ,  4. ,  0. ],\n",
       "        [ 6.1, 10. ,  0. ,  4. ,  0. ]],\n",
       "\n",
       "       [[ 1.1, 14. , 13. ,  1. ,  0. ],\n",
       "        [ 2.1, 14. , 12. ,  1. ,  0. ],\n",
       "        [ 3.1, 14. , 11. ,  1. ,  0. ],\n",
       "        [ 4.1, 14. , 10. ,  1. ,  0. ],\n",
       "        [ 3.2, 14. ,  9. ,  1. ,  0. ],\n",
       "        [ 3.1, 12. ,  9. ,  2. ,  0. ],\n",
       "        [ 1.2, 12. ,  8. ,  2. ,  0. ],\n",
       "        [ 1.1, 10. ,  8. ,  2. ,  0. ],\n",
       "        [ 5.1, 10. ,  7. ,  2. ,  0. ],\n",
       "        [ 2.2, 10. ,  6. ,  2. ,  0. ],\n",
       "        [ 2.1, 10. ,  6. ,  2. ,  0. ],\n",
       "        [ 2.2,  8. ,  6. ,  2. ,  0. ],\n",
       "        [ 5.2,  8. ,  5. ,  2. ,  0. ],\n",
       "        [ 5.1,  6. ,  5. ,  2. ,  0. ],\n",
       "        [ 4.2,  6. ,  4. ,  2. ,  0. ],\n",
       "        [ 4.1,  4. ,  4. ,  2. ,  0. ],\n",
       "        [ 6.1,  4. ,  3. ,  2. ,  0. ],\n",
       "        [ 7.1,  4. ,  2. ,  2. ,  0. ],\n",
       "        [ 6.2,  4. ,  1. ,  2. ,  0. ],\n",
       "        [ 6.1,  2. ,  1. ,  2. ,  0. ],\n",
       "        [ 7.2,  2. ,  0. ,  2. ,  0. ],\n",
       "        [ 7.1,  0. ,  0. ,  2. ,  0. ],\n",
       "        [ 0. ,  0. ,  0. ,  2. ,  1. ],\n",
       "        [ 0. ,  0. ,  0. ,  2. ,  2. ],\n",
       "        [ 0. ,  0. ,  0. ,  2. ,  3. ],\n",
       "        [ 0. ,  0. ,  0. ,  2. ,  4. ],\n",
       "        [ 0. ,  0. ,  0. ,  2. ,  5. ],\n",
       "        [ 0. ,  0. ,  0. ,  2. ,  6. ],\n",
       "        [ 0. ,  0. ,  0. ,  2. ,  7. ],\n",
       "        [ 0. ,  0. ,  0. ,  2. ,  8. ],\n",
       "        [ 0. ,  0. ,  0. ,  2. ,  9. ],\n",
       "        [ 0. ,  0. ,  0. ,  2. , 10. ],\n",
       "        [ 0. ,  0. ,  0. ,  2. , 11. ],\n",
       "        [ 0. ,  0. ,  0. ,  2. , 12. ],\n",
       "        [ 0. ,  0. ,  0. ,  2. , 13. ],\n",
       "        [ 0. ,  0. ,  0. ,  2. , 14. ],\n",
       "        [ 0. ,  0. ,  0. ,  2. , 15. ],\n",
       "        [ 0. ,  0. ,  0. ,  2. , 16. ],\n",
       "        [ 0. ,  0. ,  0. ,  2. , 17. ],\n",
       "        [ 0. ,  0. ,  0. ,  2. , 18. ]]])"
      ]
     },
     "execution_count": 504,
     "metadata": {},
     "output_type": "execute_result"
    }
   ],
   "source": [
    "X_train[:3]"
   ]
  },
  {
   "cell_type": "code",
   "execution_count": 505,
   "metadata": {},
   "outputs": [
    {
     "data": {
      "text/plain": [
       "array([[[ 1.1, 14. , 13. ,  1. ,  0. ],\n",
       "        [ 2.1, 14. , 12. ,  1. ,  0. ],\n",
       "        [ 3.1, 14. , 11. ,  1. ,  0. ],\n",
       "        [ 4.1, 14. , 10. ,  1. ,  0. ],\n",
       "        [ 2.2, 14. ,  9. ,  1. ,  0. ],\n",
       "        [ 2.1, 12. ,  9. ,  2. ,  0. ],\n",
       "        [ 3.2, 12. ,  8. ,  2. ,  0. ],\n",
       "        [ 3.1, 10. ,  8. ,  2. ,  0. ],\n",
       "        [ 5.1, 10. ,  7. ,  2. ,  0. ],\n",
       "        [ 6.1, 10. ,  6. ,  2. ,  0. ],\n",
       "        [ 7.1, 10. ,  5. ,  2. ,  0. ],\n",
       "        [ 6.2, 10. ,  4. ,  2. ,  0. ],\n",
       "        [ 6.1, 10. ,  4. ,  2. ,  0. ],\n",
       "        [ 6.2,  8. ,  4. ,  2. ,  0. ],\n",
       "        [ 5.2,  8. ,  3. ,  2. ,  0. ],\n",
       "        [ 4.2,  8. ,  2. ,  2. ,  0. ],\n",
       "        [ 4.1,  8. ,  2. ,  2. ,  0. ],\n",
       "        [ 4.2,  6. ,  2. ,  2. ,  0. ],\n",
       "        [ 1.1,  6. ,  2. ,  2. ,  0. ],\n",
       "        [ 1.2,  4. ,  1. ,  2. ,  0. ],\n",
       "        [ 7.2,  4. ,  0. ,  2. ,  0. ],\n",
       "        [ 7.1,  2. ,  0. ,  2. ,  0. ],\n",
       "        [ 5.2,  2. ,  0. ,  2. ,  0. ],\n",
       "        [ 5.1,  0. ,  0. ,  2. ,  0. ],\n",
       "        [ 0. ,  0. ,  0. ,  2. ,  1. ],\n",
       "        [ 0. ,  0. ,  0. ,  2. ,  2. ],\n",
       "        [ 0. ,  0. ,  0. ,  2. ,  3. ],\n",
       "        [ 0. ,  0. ,  0. ,  2. ,  4. ],\n",
       "        [ 0. ,  0. ,  0. ,  2. ,  5. ],\n",
       "        [ 0. ,  0. ,  0. ,  2. ,  6. ],\n",
       "        [ 0. ,  0. ,  0. ,  2. ,  7. ],\n",
       "        [ 0. ,  0. ,  0. ,  2. ,  8. ],\n",
       "        [ 0. ,  0. ,  0. ,  2. ,  9. ],\n",
       "        [ 0. ,  0. ,  0. ,  2. , 10. ],\n",
       "        [ 0. ,  0. ,  0. ,  2. , 11. ],\n",
       "        [ 0. ,  0. ,  0. ,  2. , 12. ],\n",
       "        [ 0. ,  0. ,  0. ,  2. , 13. ],\n",
       "        [ 0. ,  0. ,  0. ,  2. , 14. ],\n",
       "        [ 0. ,  0. ,  0. ,  2. , 15. ],\n",
       "        [ 0. ,  0. ,  0. ,  2. , 16. ]],\n",
       "\n",
       "       [[ 1.1, 14. , 13. ,  1. ,  0. ],\n",
       "        [ 2.1, 14. , 12. ,  1. ,  0. ],\n",
       "        [ 3.1, 14. , 11. ,  1. ,  0. ],\n",
       "        [ 4.1, 14. , 10. ,  1. ,  0. ],\n",
       "        [ 5.1, 14. ,  9. ,  1. ,  0. ],\n",
       "        [ 3.2, 14. ,  8. ,  1. ,  0. ],\n",
       "        [ 1.1, 14. ,  8. ,  2. ,  0. ],\n",
       "        [ 6.1, 14. ,  7. ,  2. ,  0. ],\n",
       "        [ 4.1, 14. ,  7. ,  2. ,  0. ],\n",
       "        [ 6.2, 14. ,  6. ,  2. ,  0. ],\n",
       "        [ 3.2, 14. ,  6. ,  2. ,  0. ],\n",
       "        [ 7.1, 14. ,  5. ,  2. ,  0. ],\n",
       "        [ 7.2, 14. ,  4. ,  2. ,  0. ],\n",
       "        [ 7.1, 12. ,  4. ,  2. ,  0. ],\n",
       "        [ 5.1, 12. ,  4. ,  2. ,  0. ],\n",
       "        [ 1.2, 12. ,  3. ,  2. ,  0. ],\n",
       "        [ 3.2, 12. ,  3. ,  3. ,  0. ],\n",
       "        [ 5.2, 12. ,  2. ,  3. ,  0. ],\n",
       "        [ 3.1, 12. ,  2. ,  3. ,  0. ],\n",
       "        [ 3.2, 10. ,  2. ,  4. ,  0. ],\n",
       "        [ 5.1, 10. ,  2. ,  4. ,  0. ],\n",
       "        [ 5.2,  8. ,  2. ,  4. ,  0. ],\n",
       "        [ 4.2,  8. ,  1. ,  4. ,  0. ],\n",
       "        [ 6.1,  8. ,  1. ,  4. ,  0. ],\n",
       "        [ 6.2,  8. ,  1. ,  4. ,  0. ],\n",
       "        [ 6.1,  6. ,  1. ,  4. ,  0. ],\n",
       "        [ 2.2,  6. ,  0. ,  4. ,  0. ],\n",
       "        [ 4.1,  6. ,  0. ,  4. ,  0. ],\n",
       "        [ 1.1,  6. ,  0. ,  4. ,  0. ],\n",
       "        [ 2.1,  6. ,  0. ,  4. ,  0. ],\n",
       "        [ 4.1,  6. ,  0. ,  4. ,  0. ],\n",
       "        [ 1.2,  6. ,  0. ,  4. ,  0. ],\n",
       "        [ 2.2,  6. ,  0. ,  4. ,  0. ],\n",
       "        [ 2.1,  4. ,  0. ,  4. ,  0. ],\n",
       "        [ 4.2,  4. ,  0. ,  4. ,  0. ],\n",
       "        [ 1.1,  4. ,  0. ,  4. ,  0. ],\n",
       "        [ 4.1,  4. ,  0. ,  5. ,  0. ],\n",
       "        [ 4.2,  2. ,  0. ,  5. ,  0. ],\n",
       "        [ 1.1,  2. ,  0. ,  5. ,  0. ],\n",
       "        [ 1.2,  0. ,  0. ,  5. ,  0. ]],\n",
       "\n",
       "       [[ 1.1, 14. , 13. ,  1. ,  0. ],\n",
       "        [ 2.1, 14. , 12. ,  1. ,  0. ],\n",
       "        [ 3.1, 14. , 11. ,  1. ,  0. ],\n",
       "        [ 4.1, 14. , 10. ,  1. ,  0. ],\n",
       "        [ 2.2, 14. ,  9. ,  1. ,  0. ],\n",
       "        [ 2.1, 12. ,  9. ,  2. ,  0. ],\n",
       "        [ 5.1, 12. ,  8. ,  2. ,  0. ],\n",
       "        [ 6.1, 12. ,  7. ,  2. ,  0. ],\n",
       "        [ 5.2, 12. ,  6. ,  2. ,  0. ],\n",
       "        [ 5.1, 10. ,  6. ,  2. ,  0. ],\n",
       "        [ 3.2, 10. ,  5. ,  2. ,  0. ],\n",
       "        [ 3.1,  8. ,  5. ,  2. ,  0. ],\n",
       "        [ 7.1,  8. ,  4. ,  2. ,  0. ],\n",
       "        [ 6.1,  8. ,  4. ,  2. ,  0. ],\n",
       "        [ 1.2,  8. ,  3. ,  2. ,  0. ],\n",
       "        [ 1.1,  6. ,  3. ,  2. ,  0. ],\n",
       "        [ 7.2,  6. ,  2. ,  2. ,  0. ],\n",
       "        [ 7.1,  4. ,  2. ,  2. ,  0. ],\n",
       "        [ 6.2,  4. ,  1. ,  2. ,  0. ],\n",
       "        [ 6.1,  2. ,  1. ,  3. ,  0. ],\n",
       "        [ 4.2,  2. ,  0. ,  3. ,  0. ],\n",
       "        [ 4.1,  0. ,  0. ,  3. ,  0. ],\n",
       "        [ 0. ,  0. ,  0. ,  3. ,  1. ],\n",
       "        [ 0. ,  0. ,  0. ,  3. ,  2. ],\n",
       "        [ 0. ,  0. ,  0. ,  3. ,  3. ],\n",
       "        [ 0. ,  0. ,  0. ,  3. ,  4. ],\n",
       "        [ 0. ,  0. ,  0. ,  3. ,  5. ],\n",
       "        [ 0. ,  0. ,  0. ,  3. ,  6. ],\n",
       "        [ 0. ,  0. ,  0. ,  3. ,  7. ],\n",
       "        [ 0. ,  0. ,  0. ,  3. ,  8. ],\n",
       "        [ 0. ,  0. ,  0. ,  3. ,  9. ],\n",
       "        [ 0. ,  0. ,  0. ,  3. , 10. ],\n",
       "        [ 0. ,  0. ,  0. ,  3. , 11. ],\n",
       "        [ 0. ,  0. ,  0. ,  3. , 12. ],\n",
       "        [ 0. ,  0. ,  0. ,  3. , 13. ],\n",
       "        [ 0. ,  0. ,  0. ,  3. , 14. ],\n",
       "        [ 0. ,  0. ,  0. ,  3. , 15. ],\n",
       "        [ 0. ,  0. ,  0. ,  3. , 16. ],\n",
       "        [ 0. ,  0. ,  0. ,  3. , 17. ],\n",
       "        [ 0. ,  0. ,  0. ,  3. , 18. ]]])"
      ]
     },
     "execution_count": 505,
     "metadata": {},
     "output_type": "execute_result"
    }
   ],
   "source": [
    "X_test[:3]"
   ]
  },
  {
   "cell_type": "code",
   "execution_count": 506,
   "metadata": {},
   "outputs": [
    {
     "data": {
      "text/plain": [
       "array([[0., 1.],\n",
       "       [0., 1.],\n",
       "       [1., 0.]], dtype=float32)"
      ]
     },
     "execution_count": 506,
     "metadata": {},
     "output_type": "execute_result"
    }
   ],
   "source": [
    "y_train[:3]"
   ]
  },
  {
   "cell_type": "code",
   "execution_count": 507,
   "metadata": {},
   "outputs": [
    {
     "data": {
      "text/plain": [
       "array([[1., 0.],\n",
       "       [1., 0.],\n",
       "       [1., 0.]], dtype=float32)"
      ]
     },
     "execution_count": 507,
     "metadata": {},
     "output_type": "execute_result"
    }
   ],
   "source": [
    "y_test[:3]"
   ]
  },
  {
   "cell_type": "code",
   "execution_count": 508,
   "metadata": {},
   "outputs": [
    {
     "data": {
      "text/plain": [
       "(24, 40, 5)"
      ]
     },
     "execution_count": 508,
     "metadata": {},
     "output_type": "execute_result"
    }
   ],
   "source": [
    "X_train.shape"
   ]
  },
  {
   "cell_type": "code",
   "execution_count": 509,
   "metadata": {},
   "outputs": [
    {
     "data": {
      "text/plain": [
       "(16, 40, 5)"
      ]
     },
     "execution_count": 509,
     "metadata": {},
     "output_type": "execute_result"
    }
   ],
   "source": [
    "X_test.shape"
   ]
  },
  {
   "cell_type": "code",
   "execution_count": 510,
   "metadata": {},
   "outputs": [
    {
     "data": {
      "text/plain": [
       "(24, 2)"
      ]
     },
     "execution_count": 510,
     "metadata": {},
     "output_type": "execute_result"
    }
   ],
   "source": [
    "y_train.shape"
   ]
  },
  {
   "cell_type": "code",
   "execution_count": 511,
   "metadata": {},
   "outputs": [
    {
     "data": {
      "text/plain": [
       "(16, 2)"
      ]
     },
     "execution_count": 511,
     "metadata": {},
     "output_type": "execute_result"
    }
   ],
   "source": [
    "y_test.shape"
   ]
  },
  {
   "cell_type": "code",
   "execution_count": 512,
   "metadata": {},
   "outputs": [],
   "source": [
    "opt = keras.optimizers.Adam(learning_rate=0.00001)"
   ]
  },
  {
   "cell_type": "code",
   "execution_count": 513,
   "metadata": {},
   "outputs": [],
   "source": [
    "verbose, epochs, batch_size = 0, 150, 32\n",
    "n_timesteps, n_features, n_outputs = X_train.shape[1], X_train.shape[2], y_train.shape[1]\n",
    "model = Sequential()\n",
    "model.add(Conv1D(filters=64, kernel_size=3, activation='relu', input_shape=(n_timesteps,n_features)))\n",
    "model.add(Conv1D(filters=64, kernel_size=3, activation='relu'))\n",
    "model.add(Dropout(0.5))\n",
    "model.add(MaxPooling1D(pool_size=2))\n",
    "model.add(Flatten())\n",
    "model.add(Dense(100, activation='relu'))\n",
    "model.add(Dense(n_outputs, activation='softmax'))\n",
    "model.compile(loss='categorical_crossentropy', optimizer=opt, metrics=['accuracy'])\n",
    "history = model.fit(X_train, y_train, epochs=epochs, batch_size=batch_size, verbose=verbose, \n",
    "                    shuffle=True, validation_data=(X_test, y_test))\n",
    "_, accuracy = model.evaluate(X_test, y_test, batch_size=batch_size, verbose=0)"
   ]
  },
  {
   "cell_type": "code",
   "execution_count": 514,
   "metadata": {},
   "outputs": [
    {
     "data": {
      "text/plain": [
       "0.875"
      ]
     },
     "execution_count": 514,
     "metadata": {},
     "output_type": "execute_result"
    }
   ],
   "source": [
    "accuracy"
   ]
  },
  {
   "cell_type": "code",
   "execution_count": 515,
   "metadata": {},
   "outputs": [
    {
     "data": {
      "text/plain": [
       "array([0, 1, 0, 1, 0, 0, 0, 0, 1, 0, 1, 0, 1, 1, 0, 1], dtype=int64)"
      ]
     },
     "execution_count": 515,
     "metadata": {},
     "output_type": "execute_result"
    }
   ],
   "source": [
    "model.predict_classes(X_test)"
   ]
  },
  {
   "cell_type": "code",
   "execution_count": 516,
   "metadata": {},
   "outputs": [
    {
     "data": {
      "text/plain": [
       "array([[1., 0.],\n",
       "       [1., 0.],\n",
       "       [1., 0.],\n",
       "       [0., 1.],\n",
       "       [1., 0.],\n",
       "       [1., 0.],\n",
       "       [1., 0.],\n",
       "       [1., 0.],\n",
       "       [0., 1.],\n",
       "       [1., 0.],\n",
       "       [0., 1.],\n",
       "       [0., 1.],\n",
       "       [0., 1.],\n",
       "       [0., 1.],\n",
       "       [1., 0.],\n",
       "       [0., 1.]], dtype=float32)"
      ]
     },
     "execution_count": 516,
     "metadata": {},
     "output_type": "execute_result"
    }
   ],
   "source": [
    "y_test"
   ]
  },
  {
   "cell_type": "code",
   "execution_count": 517,
   "metadata": {},
   "outputs": [
    {
     "data": {
      "text/plain": [
       "dict_keys(['val_loss', 'val_accuracy', 'loss', 'accuracy'])"
      ]
     },
     "execution_count": 517,
     "metadata": {},
     "output_type": "execute_result"
    }
   ],
   "source": [
    "history.history.keys()"
   ]
  },
  {
   "cell_type": "code",
   "execution_count": 518,
   "metadata": {},
   "outputs": [
    {
     "data": {
      "image/png": "[encoded data removed]",
      "text/plain": [
       "<Figure size 432x288 with 1 Axes>"
      ]
     },
     "metadata": {
      "needs_background": "light"
     },
     "output_type": "display_data"
    }
   ],
   "source": [
    "plt.plot(history.history['accuracy'])\n",
    "plt.title('model accuracy')\n",
    "plt.plot(history.history['val_accuracy'])\n",
    "plt.ylabel('accuracy')\n",
    "plt.xlabel('epoch')\n",
    "plt.legend(['train', 'test'], loc='upper left')\n",
    "plt.show()"
   ]
  }
 ],
 "metadata": {
  "kernelspec": {
   "display_name": "Python 3",
   "language": "python",
   "name": "python3"
  },
  "language_info": {
   "codemirror_mode": {
    "name": "ipython",
    "version": 3
   },
   "file_extension": ".py",
   "mimetype": "text/x-python",
   "name": "python",
   "nbconvert_exporter": "python",
   "pygments_lexer": "ipython3",
   "version": "3.7.6"
  }
 },
 "nbformat": 4,
 "nbformat_minor": 4
}
