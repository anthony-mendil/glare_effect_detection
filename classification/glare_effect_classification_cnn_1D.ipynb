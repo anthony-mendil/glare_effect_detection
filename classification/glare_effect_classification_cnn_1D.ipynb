{
 "cells": [
  {
   "cell_type": "code",
   "execution_count": 43,
   "metadata": {},
   "outputs": [],
   "source": [
    "import numpy as np\n",
    "import random\n",
    "from tqdm.auto import tqdm, trange\n",
    "import matplotlib.pyplot as plt\n",
    "from sklearn.model_selection import StratifiedKFold\n",
    "from sklearn.preprocessing import LabelEncoder\n",
    "\n",
    "import keras\n",
    "from keras.layers import Conv1D, Dense, Dropout, Input, Concatenate, GlobalMaxPooling1D, MaxPooling1D, Flatten\n",
    "from keras.models import Model, Sequential"
   ]
  },
  {
   "cell_type": "code",
   "execution_count": 44,
   "metadata": {},
   "outputs": [],
   "source": [
    "def load_data_splits(base_path='C:\\\\Users\\\\dylin\\\\Documents\\\\BA_Glare_Effect\\\\classification_data\\\\features\\\\', splits=20):\n",
    "    real_data_splits_train = []\n",
    "    real_data_splits_test = []\n",
    "    simulated_data_splits_train = []\n",
    "    for split in range(1, splits + 1):\n",
    "        # Real data for training\n",
    "        X_realData_train = np.load(base_path + 'real\\\\Split%s\\\\for_simulation\\\\X_realData_train.npy' %str(split))\n",
    "        y_realData_train = np.load(base_path + 'real\\\\Split%s\\\\for_simulation\\\\y_realData_train.npy' %str(split))\n",
    "        real_data_splits_train.append((X_realData_train, y_realData_train))\n",
    "        \n",
    "        # Real data for testing\n",
    "        X_realData_test = np.load(base_path + 'real\\\\Split%s\\\\for_testing\\\\X_realData_test.npy' %str(split))\n",
    "        y_realData_test = np.load(base_path + 'real\\\\Split%s\\\\for_testing\\\\y_realData_test.npy' %str(split))\n",
    "        real_data_splits_test.append((X_realData_test, y_realData_test))\n",
    "    \n",
    "        # Simulated data for training\n",
    "        X_simulatedData_train = np.load(base_path + 'simulated\\\\Split%s\\\\X_simulatedData_train.npy' %str(split))\n",
    "        y_simulatedData_train = np.load(base_path + 'simulated\\\\Split%s\\\\y_simulatedData_train.npy' %str(split))\n",
    "        simulated_data_splits_train.append((X_simulatedData_train, y_simulatedData_train))\n",
    "    return real_data_splits_train, real_data_splits_test, simulated_data_splits_train"
   ]
  },
  {
   "cell_type": "code",
   "execution_count": 45,
   "metadata": {},
   "outputs": [],
   "source": [
    "real_data_splits_train, real_data_splits_test, simulated_data_splits_train = load_data_splits()"
   ]
  },
  {
   "cell_type": "code",
   "execution_count": 46,
   "metadata": {},
   "outputs": [],
   "source": [
    "n_participants_per_split = 19 # 20 but one is removed in each split for testing\n",
    "simulations_per_participant = 1000\n",
    "n_added_simulations_per_participant = 20\n",
    "n_runs = 20\n",
    "n_epochs = 500"
   ]
  },
  {
   "cell_type": "code",
   "execution_count": 47,
   "metadata": {},
   "outputs": [],
   "source": [
    "def add_simulated_data(X_train, y_train, simulated_train_set):\n",
    "    for n in range(n_added_simulations_per_participant):\n",
    "        for i in range(n_participants_per_split):\n",
    "\n",
    "            X_train_simulated_1 = simulated_train_set[0][(i * simulations_per_participant) + n]\n",
    "            y_train_simulated_1 = simulated_train_set[1][(i * simulations_per_participant) + n]\n",
    "            X_train_simulated_2 = simulated_train_set[0][(simulations_per_participant * n_participants_per_split) \\\n",
    "                                                         + (i * simulations_per_participant) + n]\n",
    "            y_train_simulated_2 = simulated_train_set[1][(simulations_per_participant * n_participants_per_split) \\\n",
    "                                                         + (i * simulations_per_participant) + n]\n",
    "            \n",
    "            X_train_simulated = np.concatenate((X_train_simulated_1[np.newaxis, :, :], \\\n",
    "                                               X_train_simulated_2[np.newaxis, :, :]), axis=0)\n",
    "            y_train_simulated = np.concatenate((y_train_simulated_1[np.newaxis, :], \\\n",
    "                                               y_train_simulated_2[np.newaxis, :]), axis=0)\n",
    "\n",
    "            X_train = np.concatenate((X_train, X_train_simulated), axis=0)\n",
    "            y_train = np.concatenate((y_train, y_train_simulated), axis=0)\n",
    "    return X_train, y_train"
   ]
  },
  {
   "cell_type": "code",
   "execution_count": 48,
   "metadata": {},
   "outputs": [],
   "source": [
    "def mean_score_of_run(histories, epochs):\n",
    "    mean_val_losses = []\n",
    "    mean_val_accuracies = []\n",
    "    mean_losses = []\n",
    "    mean_accuracies = []\n",
    "    for i in range(epochs):\n",
    "        val_losses = []\n",
    "        val_accuracies = []\n",
    "        losses = []\n",
    "        accuracies = []\n",
    "        for l in range(len(histories)):\n",
    "            history = histories[l]\n",
    "            val_losses.append(history.history['val_loss'][i])\n",
    "            val_accuracies.append(history.history['val_accuracy'][i])\n",
    "            losses.append(history.history['loss'][i])\n",
    "            accuracies.append(history.history['accuracy'][i])\n",
    "        mean_val_losses.append(np.mean(val_losses))\n",
    "        mean_val_accuracies.append(np.mean(val_accuracies))\n",
    "        mean_losses.append(np.mean(losses))\n",
    "        mean_accuracies.append(np.mean(accuracies))\n",
    "    return mean_val_losses, mean_val_accuracies, mean_losses, mean_accuracies"
   ]
  },
  {
   "cell_type": "code",
   "execution_count": 49,
   "metadata": {},
   "outputs": [],
   "source": [
    "def mean_score_over_all_runs(mean_run_scores, n_runs):\n",
    "    val_losses = np.asarray(mean_run_scores[0][0])\n",
    "    val_accuracies = np.asarray(mean_run_scores[0][1])\n",
    "    losses = np.asarray(mean_run_scores[0][2])\n",
    "    accuracies = np.asarray(mean_run_scores[0][3])\n",
    "                            \n",
    "    for i in range(1, n_runs):\n",
    "        val_losses += np.asarray(mean_run_scores[i][0])\n",
    "        val_accuracies += np.asarray(mean_run_scores[i][1])\n",
    "        losses += np.asarray(mean_run_scores[i][2])\n",
    "        accuracies += np.asarray(mean_run_scores[i][3])\n",
    "                                 \n",
    "    val_losses /= n_runs\n",
    "    val_accuracies /= n_runs\n",
    "    losses /= n_runs\n",
    "    accuracies /= n_runs\n",
    "    \n",
    "    return val_losses, val_accuracies, losses, accuracies"
   ]
  },
  {
   "cell_type": "code",
   "execution_count": 50,
   "metadata": {},
   "outputs": [],
   "source": [
    "opt = keras.optimizers.Adam(learning_rate=0.00001)"
   ]
  },
  {
   "cell_type": "code",
   "execution_count": 51,
   "metadata": {},
   "outputs": [],
   "source": [
    "def create_and_train(X_train, y_train, X_test, y_test, n_epochs=n_epochs):\n",
    "    verbose, epochs, batch_size = 0, n_epochs, 32 \n",
    "    n_timesteps, n_features, n_outputs = X_train.shape[1], X_train.shape[2], y_train.shape[1]\n",
    "    model = Sequential()\n",
    "    model.add(Conv1D(filters=32, kernel_size=5, activation='relu', input_shape=(n_timesteps,n_features)))\n",
    "    model.add(Conv1D(filters=32, kernel_size=5, activation='relu'))\n",
    "    model.add(Dropout(0.5))\n",
    "    model.add(MaxPooling1D(pool_size=2))\n",
    "    model.add(Flatten())\n",
    "    model.add(Dense(100, activation='relu'))\n",
    "    model.add(Dense(n_outputs, activation='softmax'))\n",
    "    #print(X_train.shape, y_train.shape, X_test.shape, y_test.shape)\n",
    "    model.compile(loss='categorical_crossentropy', optimizer=opt, metrics=['accuracy'])\n",
    "    history = model.fit(X_train, y_train, epochs=epochs, batch_size=batch_size, verbose=verbose, \n",
    "                        shuffle=True, validation_data=(X_test, y_test))\n",
    "    histories.append(history)"
   ]
  },
  {
   "cell_type": "code",
   "execution_count": 52,
   "metadata": {},
   "outputs": [
    {
     "data": {
      "application/vnd.jupyter.widget-view+json": {
       "model_id": "c0717a38cdb546bea1875b8894bea1e7",
       "version_major": 2,
       "version_minor": 0
      },
      "text/plain": [
       "HBox(children=(FloatProgress(value=0.0, description='Runs', max=20.0, style=ProgressStyle(description_width='i…"
      ]
     },
     "metadata": {},
     "output_type": "display_data"
    },
    {
     "data": {
      "application/vnd.jupyter.widget-view+json": {
       "model_id": "c081ed6f905d43099650a80b3728be91",
       "version_major": 2,
       "version_minor": 0
      },
      "text/plain": [
       "HBox(children=(FloatProgress(value=0.0, description='Folds', max=20.0, style=ProgressStyle(description_width='…"
      ]
     },
     "metadata": {},
     "output_type": "display_data"
    },
    {
     "name": "stdout",
     "output_type": "stream",
     "text": [
      "\n"
     ]
    },
    {
     "data": {
      "application/vnd.jupyter.widget-view+json": {
       "model_id": "fdc1043214f344688115249f83aefe67",
       "version_major": 2,
       "version_minor": 0
      },
      "text/plain": [
       "HBox(children=(FloatProgress(value=0.0, description='Folds', max=20.0, style=ProgressStyle(description_width='…"
      ]
     },
     "metadata": {},
     "output_type": "display_data"
    },
    {
     "name": "stdout",
     "output_type": "stream",
     "text": [
      "\n"
     ]
    },
    {
     "data": {
      "application/vnd.jupyter.widget-view+json": {
       "model_id": "a7e8ac9c0f6143b7b6dcb7bab0cc1145",
       "version_major": 2,
       "version_minor": 0
      },
      "text/plain": [
       "HBox(children=(FloatProgress(value=0.0, description='Folds', max=20.0, style=ProgressStyle(description_width='…"
      ]
     },
     "metadata": {},
     "output_type": "display_data"
    },
    {
     "name": "stdout",
     "output_type": "stream",
     "text": [
      "\n"
     ]
    },
    {
     "data": {
      "application/vnd.jupyter.widget-view+json": {
       "model_id": "3f6b2922fbc646d1ac2a132a8e971792",
       "version_major": 2,
       "version_minor": 0
      },
      "text/plain": [
       "HBox(children=(FloatProgress(value=0.0, description='Folds', max=20.0, style=ProgressStyle(description_width='…"
      ]
     },
     "metadata": {},
     "output_type": "display_data"
    },
    {
     "name": "stdout",
     "output_type": "stream",
     "text": [
      "\n"
     ]
    },
    {
     "data": {
      "application/vnd.jupyter.widget-view+json": {
       "model_id": "87922c89a7b8458ebdf8088a072125d1",
       "version_major": 2,
       "version_minor": 0
      },
      "text/plain": [
       "HBox(children=(FloatProgress(value=0.0, description='Folds', max=20.0, style=ProgressStyle(description_width='…"
      ]
     },
     "metadata": {},
     "output_type": "display_data"
    },
    {
     "name": "stdout",
     "output_type": "stream",
     "text": [
      "\n"
     ]
    },
    {
     "data": {
      "application/vnd.jupyter.widget-view+json": {
       "model_id": "e677fdc8d35042e58aa858afe56218da",
       "version_major": 2,
       "version_minor": 0
      },
      "text/plain": [
       "HBox(children=(FloatProgress(value=0.0, description='Folds', max=20.0, style=ProgressStyle(description_width='…"
      ]
     },
     "metadata": {},
     "output_type": "display_data"
    },
    {
     "name": "stdout",
     "output_type": "stream",
     "text": [
      "\n"
     ]
    },
    {
     "data": {
      "application/vnd.jupyter.widget-view+json": {
       "model_id": "eda95c38ec574abd8bca697fa3b1f55f",
       "version_major": 2,
       "version_minor": 0
      },
      "text/plain": [
       "HBox(children=(FloatProgress(value=0.0, description='Folds', max=20.0, style=ProgressStyle(description_width='…"
      ]
     },
     "metadata": {},
     "output_type": "display_data"
    },
    {
     "name": "stdout",
     "output_type": "stream",
     "text": [
      "\n"
     ]
    },
    {
     "data": {
      "application/vnd.jupyter.widget-view+json": {
       "model_id": "30fb7199114644afa79d8d9bc5001757",
       "version_major": 2,
       "version_minor": 0
      },
      "text/plain": [
       "HBox(children=(FloatProgress(value=0.0, description='Folds', max=20.0, style=ProgressStyle(description_width='…"
      ]
     },
     "metadata": {},
     "output_type": "display_data"
    },
    {
     "name": "stdout",
     "output_type": "stream",
     "text": [
      "\n"
     ]
    },
    {
     "data": {
      "application/vnd.jupyter.widget-view+json": {
       "model_id": "36d65db27b63469e8023a1c1d8a9378c",
       "version_major": 2,
       "version_minor": 0
      },
      "text/plain": [
       "HBox(children=(FloatProgress(value=0.0, description='Folds', max=20.0, style=ProgressStyle(description_width='…"
      ]
     },
     "metadata": {},
     "output_type": "display_data"
    },
    {
     "name": "stdout",
     "output_type": "stream",
     "text": [
      "\n"
     ]
    },
    {
     "data": {
      "application/vnd.jupyter.widget-view+json": {
       "model_id": "dfad74dac9c5498eb30082348af3c257",
       "version_major": 2,
       "version_minor": 0
      },
      "text/plain": [
       "HBox(children=(FloatProgress(value=0.0, description='Folds', max=20.0, style=ProgressStyle(description_width='…"
      ]
     },
     "metadata": {},
     "output_type": "display_data"
    },
    {
     "name": "stdout",
     "output_type": "stream",
     "text": [
      "\n"
     ]
    },
    {
     "data": {
      "application/vnd.jupyter.widget-view+json": {
       "model_id": "7efc83281f6249afbcaa3f88790568e3",
       "version_major": 2,
       "version_minor": 0
      },
      "text/plain": [
       "HBox(children=(FloatProgress(value=0.0, description='Folds', max=20.0, style=ProgressStyle(description_width='…"
      ]
     },
     "metadata": {},
     "output_type": "display_data"
    },
    {
     "name": "stdout",
     "output_type": "stream",
     "text": [
      "\n"
     ]
    },
    {
     "data": {
      "application/vnd.jupyter.widget-view+json": {
       "model_id": "a0438997a8de403090c1402149af7505",
       "version_major": 2,
       "version_minor": 0
      },
      "text/plain": [
       "HBox(children=(FloatProgress(value=0.0, description='Folds', max=20.0, style=ProgressStyle(description_width='…"
      ]
     },
     "metadata": {},
     "output_type": "display_data"
    },
    {
     "name": "stdout",
     "output_type": "stream",
     "text": [
      "\n"
     ]
    },
    {
     "data": {
      "application/vnd.jupyter.widget-view+json": {
       "model_id": "7508e753da844354ae72969b54ae0839",
       "version_major": 2,
       "version_minor": 0
      },
      "text/plain": [
       "HBox(children=(FloatProgress(value=0.0, description='Folds', max=20.0, style=ProgressStyle(description_width='…"
      ]
     },
     "metadata": {},
     "output_type": "display_data"
    },
    {
     "name": "stdout",
     "output_type": "stream",
     "text": [
      "\n"
     ]
    },
    {
     "data": {
      "application/vnd.jupyter.widget-view+json": {
       "model_id": "014dd44e5a0e4520aff13b8d94df44b3",
       "version_major": 2,
       "version_minor": 0
      },
      "text/plain": [
       "HBox(children=(FloatProgress(value=0.0, description='Folds', max=20.0, style=ProgressStyle(description_width='…"
      ]
     },
     "metadata": {},
     "output_type": "display_data"
    },
    {
     "name": "stdout",
     "output_type": "stream",
     "text": [
      "\n"
     ]
    },
    {
     "data": {
      "application/vnd.jupyter.widget-view+json": {
       "model_id": "97d029a7f80045e98258808fd205d1b4",
       "version_major": 2,
       "version_minor": 0
      },
      "text/plain": [
       "HBox(children=(FloatProgress(value=0.0, description='Folds', max=20.0, style=ProgressStyle(description_width='…"
      ]
     },
     "metadata": {},
     "output_type": "display_data"
    },
    {
     "name": "stdout",
     "output_type": "stream",
     "text": [
      "\n"
     ]
    },
    {
     "data": {
      "application/vnd.jupyter.widget-view+json": {
       "model_id": "846557b6ab8e47f1a0f092ac5c151d24",
       "version_major": 2,
       "version_minor": 0
      },
      "text/plain": [
       "HBox(children=(FloatProgress(value=0.0, description='Folds', max=20.0, style=ProgressStyle(description_width='…"
      ]
     },
     "metadata": {},
     "output_type": "display_data"
    },
    {
     "name": "stdout",
     "output_type": "stream",
     "text": [
      "\n"
     ]
    },
    {
     "data": {
      "application/vnd.jupyter.widget-view+json": {
       "model_id": "3358dd4b74e647beb62660024737d09f",
       "version_major": 2,
       "version_minor": 0
      },
      "text/plain": [
       "HBox(children=(FloatProgress(value=0.0, description='Folds', max=20.0, style=ProgressStyle(description_width='…"
      ]
     },
     "metadata": {},
     "output_type": "display_data"
    },
    {
     "name": "stdout",
     "output_type": "stream",
     "text": [
      "\n"
     ]
    },
    {
     "data": {
      "application/vnd.jupyter.widget-view+json": {
       "model_id": "9f7e291f97524de9a7849151e71ffa27",
       "version_major": 2,
       "version_minor": 0
      },
      "text/plain": [
       "HBox(children=(FloatProgress(value=0.0, description='Folds', max=20.0, style=ProgressStyle(description_width='…"
      ]
     },
     "metadata": {},
     "output_type": "display_data"
    },
    {
     "name": "stdout",
     "output_type": "stream",
     "text": [
      "\n"
     ]
    },
    {
     "data": {
      "application/vnd.jupyter.widget-view+json": {
       "model_id": "4fdfd157f1d449efb6dfd3c70a0f7d3f",
       "version_major": 2,
       "version_minor": 0
      },
      "text/plain": [
       "HBox(children=(FloatProgress(value=0.0, description='Folds', max=20.0, style=ProgressStyle(description_width='…"
      ]
     },
     "metadata": {},
     "output_type": "display_data"
    },
    {
     "name": "stdout",
     "output_type": "stream",
     "text": [
      "\n"
     ]
    },
    {
     "data": {
      "application/vnd.jupyter.widget-view+json": {
       "model_id": "693341279ffc4f72911fc9d7106ec0bd",
       "version_major": 2,
       "version_minor": 0
      },
      "text/plain": [
       "HBox(children=(FloatProgress(value=0.0, description='Folds', max=20.0, style=ProgressStyle(description_width='…"
      ]
     },
     "metadata": {},
     "output_type": "display_data"
    },
    {
     "name": "stdout",
     "output_type": "stream",
     "text": [
      "\n",
      "\n"
     ]
    }
   ],
   "source": [
    "mean_run_scores = []\n",
    "for i in trange(n_runs, desc='Runs'): \n",
    "    histories = []\n",
    "    for train_set, test_set, simulated_train_set in tqdm(zip(real_data_splits_train, \\\n",
    "                                    real_data_splits_test, simulated_data_splits_train), total=20, desc='Folds'):\n",
    "        X_train = train_set[0]\n",
    "        y_train = train_set[1]\n",
    "        X_test = test_set[0]\n",
    "        y_test = test_set[1]\n",
    "        \n",
    "        # Adding simulated data. \n",
    "        X_train, y_train = add_simulated_data(X_train, y_train, simulated_train_set)\n",
    "        \n",
    "        #print(X_train.shape)\n",
    "        #print(y_train.shape)\n",
    "\n",
    "        # Shuffling training data\n",
    "        temp_train = list(zip(X_train.tolist(), y_train.tolist()))\n",
    "        random.shuffle(temp_train)\n",
    "        X_train, y_train = zip(*temp_train)\n",
    "        \n",
    "        create_and_train(np.asarray(X_train), np.asarray(y_train), X_test, y_test)\n",
    "        \n",
    "    mean_run_score = mean_score_of_run(histories=histories, epochs=n_epochs)\n",
    "    mean_run_scores.append(mean_run_score)"
   ]
  },
  {
   "cell_type": "code",
   "execution_count": 53,
   "metadata": {},
   "outputs": [
    {
     "data": {
      "text/plain": [
       "array([0.675  , 0.7475 , 0.76375, 0.77375, 0.77875, 0.785  , 0.7875 ,\n",
       "       0.7925 , 0.79125, 0.7875 , 0.7875 , 0.7875 , 0.78625, 0.78375,\n",
       "       0.78875, 0.785  , 0.78875, 0.78625, 0.785  , 0.79   , 0.79125,\n",
       "       0.79375, 0.7925 , 0.7925 , 0.7925 , 0.7925 , 0.78875, 0.79125,\n",
       "       0.79375, 0.79125, 0.795  , 0.795  , 0.79125, 0.79375, 0.7925 ,\n",
       "       0.795  , 0.7925 , 0.79375, 0.7925 , 0.79625, 0.79625, 0.7975 ,\n",
       "       0.79375, 0.7975 , 0.7975 , 0.795  , 0.79875, 0.7975 , 0.7975 ,\n",
       "       0.79625, 0.8025 , 0.79875, 0.79875, 0.80125, 0.79875, 0.8    ,\n",
       "       0.8    , 0.79875, 0.79875, 0.79625, 0.7975 , 0.79875, 0.80125,\n",
       "       0.79875, 0.8    , 0.8    , 0.7975 , 0.7975 , 0.80125, 0.79875,\n",
       "       0.8    , 0.8    , 0.79875, 0.8    , 0.79625, 0.7975 , 0.8    ,\n",
       "       0.79875, 0.79875, 0.79875, 0.8025 , 0.7975 , 0.79875, 0.79875,\n",
       "       0.8    , 0.80125, 0.79625, 0.79875, 0.80125, 0.8025 , 0.79875,\n",
       "       0.8    , 0.80125, 0.80125, 0.80125, 0.80125, 0.8025 , 0.79875,\n",
       "       0.8    , 0.8    , 0.80125, 0.8025 , 0.79875, 0.8    , 0.80125,\n",
       "       0.80375, 0.8025 , 0.80375, 0.8025 , 0.80125, 0.8    , 0.8025 ,\n",
       "       0.8025 , 0.8025 , 0.80125, 0.8025 , 0.80125, 0.80125, 0.8    ,\n",
       "       0.8025 , 0.8025 , 0.805  , 0.8025 , 0.8025 , 0.80375, 0.8025 ,\n",
       "       0.80375, 0.8025 , 0.8025 , 0.80125, 0.805  , 0.8025 , 0.805  ,\n",
       "       0.805  , 0.805  , 0.8025 , 0.8025 , 0.80125, 0.80375, 0.805  ,\n",
       "       0.80625, 0.80375, 0.805  , 0.8025 , 0.805  , 0.80375, 0.80375,\n",
       "       0.805  , 0.80125, 0.80375, 0.8025 , 0.805  , 0.80375, 0.8025 ,\n",
       "       0.80375, 0.8025 , 0.805  , 0.80375, 0.8025 , 0.8025 , 0.80375,\n",
       "       0.79875, 0.8025 , 0.80375, 0.8    , 0.79875, 0.80375, 0.80125,\n",
       "       0.8    , 0.80125, 0.8    , 0.80125, 0.79875, 0.8    , 0.7975 ,\n",
       "       0.79875, 0.79875, 0.8    , 0.79875, 0.80125, 0.79875, 0.79875,\n",
       "       0.79625, 0.79625, 0.79625, 0.7975 , 0.8    , 0.79875, 0.7975 ,\n",
       "       0.79875, 0.79625, 0.795  , 0.79875, 0.7975 , 0.8    , 0.7975 ,\n",
       "       0.8    , 0.79875, 0.8    , 0.8025 , 0.7975 , 0.7975 , 0.79875,\n",
       "       0.795  , 0.795  , 0.79375, 0.7975 , 0.79875, 0.795  , 0.7925 ,\n",
       "       0.795  , 0.79375, 0.79375, 0.79875, 0.795  , 0.795  , 0.795  ,\n",
       "       0.79625, 0.7975 , 0.795  , 0.7975 , 0.795  , 0.79625, 0.7975 ,\n",
       "       0.795  , 0.79625, 0.79875, 0.79625, 0.79625, 0.79375, 0.795  ,\n",
       "       0.795  , 0.7975 , 0.795  , 0.79375, 0.7975 , 0.79125, 0.7925 ,\n",
       "       0.7975 , 0.79375, 0.795  , 0.7925 , 0.795  , 0.79625, 0.79625,\n",
       "       0.795  , 0.79625, 0.795  , 0.79625, 0.7925 , 0.795  , 0.79375,\n",
       "       0.795  , 0.795  , 0.79375, 0.79375, 0.795  , 0.7925 , 0.79125,\n",
       "       0.79   , 0.79   , 0.79125, 0.7925 , 0.79   , 0.79375, 0.79   ,\n",
       "       0.79375, 0.79125, 0.79   , 0.78875, 0.7925 , 0.79125, 0.78875,\n",
       "       0.7925 , 0.79   , 0.79125, 0.79   , 0.79   , 0.79   , 0.79125,\n",
       "       0.79125, 0.7925 , 0.79125, 0.79125, 0.79125, 0.79375, 0.7875 ,\n",
       "       0.7925 , 0.79   , 0.7875 , 0.7875 , 0.78875, 0.7875 , 0.78875,\n",
       "       0.78875, 0.78875, 0.7875 , 0.78875, 0.7875 , 0.78625, 0.7875 ,\n",
       "       0.7875 , 0.79   , 0.79   , 0.79   , 0.79   , 0.78875, 0.79   ,\n",
       "       0.7875 , 0.78625, 0.7825 , 0.7875 , 0.78875, 0.78875, 0.78875,\n",
       "       0.795  , 0.785  , 0.7875 , 0.7875 , 0.7875 , 0.78875, 0.7875 ,\n",
       "       0.79   , 0.79125, 0.7875 , 0.785  , 0.79   , 0.78875, 0.78875,\n",
       "       0.785  , 0.7875 , 0.78625, 0.78625, 0.7875 , 0.785  , 0.785  ,\n",
       "       0.785  , 0.785  , 0.785  , 0.78625, 0.78625, 0.79   , 0.78625,\n",
       "       0.78875, 0.7875 , 0.78375, 0.785  , 0.785  , 0.785  , 0.7875 ,\n",
       "       0.78875, 0.7875 , 0.78625, 0.7875 , 0.78375, 0.78625, 0.785  ,\n",
       "       0.7875 , 0.785  , 0.785  , 0.78375, 0.78625, 0.78625, 0.7875 ,\n",
       "       0.7825 , 0.78375, 0.7825 , 0.78375, 0.78375, 0.785  , 0.7875 ,\n",
       "       0.78375, 0.78625, 0.78625, 0.78375, 0.785  , 0.7825 , 0.7875 ,\n",
       "       0.78625, 0.78625, 0.785  , 0.785  , 0.78625, 0.78625, 0.78375,\n",
       "       0.78625, 0.78625, 0.7825 , 0.78625, 0.785  , 0.78375, 0.785  ,\n",
       "       0.785  , 0.78375, 0.7875 , 0.78625, 0.785  , 0.78375, 0.78375,\n",
       "       0.7825 , 0.7825 , 0.78875, 0.78625, 0.785  , 0.7825 , 0.785  ,\n",
       "       0.785  , 0.78375, 0.785  , 0.78375, 0.785  , 0.785  , 0.78375,\n",
       "       0.785  , 0.7875 , 0.78375, 0.785  , 0.785  , 0.7825 , 0.7825 ,\n",
       "       0.785  , 0.78375, 0.78375, 0.78125, 0.785  , 0.78125, 0.7825 ,\n",
       "       0.78375, 0.7825 , 0.7825 , 0.7825 , 0.785  , 0.7825 , 0.78   ,\n",
       "       0.78   , 0.78375, 0.785  , 0.78125, 0.7825 , 0.7825 , 0.785  ,\n",
       "       0.78375, 0.78125, 0.7825 , 0.78   , 0.78125, 0.7825 , 0.78375,\n",
       "       0.78125, 0.77875, 0.7825 , 0.78125, 0.78125, 0.78125, 0.77875,\n",
       "       0.78   , 0.77875, 0.78375, 0.7825 , 0.78   , 0.78   , 0.78125,\n",
       "       0.7825 , 0.78   , 0.7825 , 0.78   , 0.7825 , 0.7825 , 0.78125,\n",
       "       0.78   , 0.78125, 0.7825 , 0.78   , 0.78   , 0.78125, 0.78125,\n",
       "       0.78   , 0.78   , 0.7825 , 0.78   , 0.78375, 0.78   , 0.77875,\n",
       "       0.78   , 0.7825 , 0.78   , 0.7775 , 0.77875, 0.77875, 0.78   ,\n",
       "       0.77875, 0.7775 , 0.7775 , 0.78   , 0.7775 , 0.78125, 0.78   ,\n",
       "       0.77875, 0.78   , 0.77875])"
      ]
     },
     "execution_count": 53,
     "metadata": {},
     "output_type": "execute_result"
    }
   ],
   "source": [
    "mean_val_losses, mean_val_accuracies, mean_losses, mean_accuracies = mean_score_over_all_runs(mean_run_scores, n_runs)\n",
    "mean_val_accuracies"
   ]
  },
  {
   "cell_type": "code",
   "execution_count": 54,
   "metadata": {},
   "outputs": [
    {
     "data": {
      "image/png": "[encoded data removed]",
      "text/plain": [
       "<Figure size 432x288 with 1 Axes>"
      ]
     },
     "metadata": {
      "needs_background": "light"
     },
     "output_type": "display_data"
    }
   ],
   "source": [
    "plt.title('glareObs_noAdapt: Best validation accuracy %s%% (at epoch %s)' \\\n",
    "          %(round(mean_val_accuracies.max() * 100, 2), np.argmax(mean_val_accuracies) + 1))\n",
    "plt.plot(mean_accuracies)\n",
    "plt.plot(mean_val_accuracies)\n",
    "plt.ylabel('accuracy')\n",
    "plt.xlabel('epoch')\n",
    "plt.legend(['train(RD_SD%sx)' %n_added_simulations_per_participant, 'validation(RD)'], loc='lower right')\n",
    "plt.show()"
   ]
  },
  {
   "cell_type": "code",
   "execution_count": 55,
   "metadata": {},
   "outputs": [
    {
     "data": {
      "image/png": "[encoded data removed]",
      "text/plain": [
       "<Figure size 432x288 with 1 Axes>"
      ]
     },
     "metadata": {
      "needs_background": "light"
     },
     "output_type": "display_data"
    }
   ],
   "source": [
    "plt.title('glareObs_noAdapt: Lowest validation loss %s (at epoch %s)' \\\n",
    "          %(round(mean_val_losses.min(), 4), np.argmin(mean_val_losses) + 1))\n",
    "plt.plot(mean_losses)\n",
    "plt.plot(mean_val_losses)\n",
    "plt.ylabel('loss')\n",
    "plt.xlabel('epoch')\n",
    "plt.legend(['train(RD_SD%sx)' %n_added_simulations_per_participant, 'validation(RD)'], loc='upper right')\n",
    "plt.show()"
   ]
  }
 ],
 "metadata": {
  "kernelspec": {
   "display_name": "Python 3",
   "language": "python",
   "name": "python3"
  },
  "language_info": {
   "codemirror_mode": {
    "name": "ipython",
    "version": 3
   },
   "file_extension": ".py",
   "mimetype": "text/x-python",
   "name": "python",
   "nbconvert_exporter": "python",
   "pygments_lexer": "ipython3",
   "version": "3.7.6"
  }
 },
 "nbformat": 4,
 "nbformat_minor": 4
}
