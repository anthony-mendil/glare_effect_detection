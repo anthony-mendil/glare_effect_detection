{
 "cells": [
  {
   "cell_type": "code",
   "execution_count": 1,
   "metadata": {},
   "outputs": [
    {
     "name": "stderr",
     "output_type": "stream",
     "text": [
      "Using TensorFlow backend.\n"
     ]
    }
   ],
   "source": [
    "import numpy as np\n",
    "import random\n",
    "from tqdm.auto import tqdm, trange\n",
    "import matplotlib.pyplot as plt\n",
    "from sklearn.model_selection import StratifiedKFold\n",
    "from sklearn.preprocessing import LabelEncoder\n",
    "\n",
    "import keras\n",
    "from keras.layers import Conv1D, Dense, Dropout, Input, Concatenate, GlobalMaxPooling1D, MaxPooling1D, Flatten\n",
    "from keras.models import Model, Sequential"
   ]
  },
  {
   "cell_type": "code",
   "execution_count": 2,
   "metadata": {},
   "outputs": [],
   "source": [
    "def load_data_splits(steps, base_path='C:\\\\Users\\\\dylin\\\\Documents\\\\BA_Glare_Effect\\\\classification_data\\\\features\\\\', splits=20):\n",
    "    real_data_splits_train = []\n",
    "    real_data_splits_test = []\n",
    "    simulated_data_splits_train = []\n",
    "    for split in range(1, splits + 1):\n",
    "        # Real data for training\n",
    "        X_realData_train = np.load(base_path + 'real\\\\Split%s\\\\for_simulation\\\\X_realData_train.npy' %str(split))\n",
    "        X_realData_train = X_realData_train[:, :steps, :]\n",
    "        \n",
    "        y_realData_train = np.load(base_path + 'real\\\\Split%s\\\\for_simulation\\\\y_realData_train.npy' %str(split))\n",
    "        real_data_splits_train.append((X_realData_train, y_realData_train))\n",
    "        \n",
    "        # Real data for testing\n",
    "        X_realData_test = np.load(base_path + 'real\\\\Split%s\\\\for_testing\\\\X_realData_test.npy' %str(split))\n",
    "        X_realData_test = X_realData_test[:, :steps, :]\n",
    "        \n",
    "        y_realData_test = np.load(base_path + 'real\\\\Split%s\\\\for_testing\\\\y_realData_test.npy' %str(split))\n",
    "        real_data_splits_test.append((X_realData_test, y_realData_test))\n",
    "    \n",
    "        # Simulated data for training\n",
    "        X_simulatedData_train = np.load(base_path + 'simulated\\\\Split%s\\\\X_simulatedData_train.npy' %str(split))\n",
    "        X_simulatedData_train = X_simulatedData_train[:, :steps, :]\n",
    "        \n",
    "        y_simulatedData_train = np.load(base_path + 'simulated\\\\Split%s\\\\y_simulatedData_train.npy' %str(split))\n",
    "        simulated_data_splits_train.append((X_simulatedData_train, y_simulatedData_train))\n",
    "    return real_data_splits_train, real_data_splits_test, simulated_data_splits_train"
   ]
  },
  {
   "cell_type": "code",
   "execution_count": 3,
   "metadata": {},
   "outputs": [],
   "source": [
    "real_data_splits_train, real_data_splits_test, simulated_data_splits_train = load_data_splits(steps=20)"
   ]
  },
  {
   "cell_type": "code",
   "execution_count": 4,
   "metadata": {},
   "outputs": [
    {
     "data": {
      "text/plain": [
       "array([[ 1.1, 14. , 13. ,  1. ,  0. ],\n",
       "       [ 2.1, 14. , 12. ,  1. ,  0. ],\n",
       "       [ 3.1, 14. , 11. ,  1. ,  0. ],\n",
       "       [ 4.1, 14. , 10. ,  1. ,  0. ],\n",
       "       [ 3.2, 14. ,  9. ,  1. ,  0. ],\n",
       "       [ 3.1, 12. ,  9. ,  2. ,  0. ],\n",
       "       [ 5.1, 12. ,  8. ,  2. ,  0. ],\n",
       "       [ 5.2, 10. ,  7. ,  2. ,  0. ],\n",
       "       [ 6.1, 10. ,  6. ,  2. ,  0. ],\n",
       "       [ 2.1, 10. ,  6. ,  2. ,  0. ],\n",
       "       [ 6.2, 10. ,  5. ,  2. ,  0. ],\n",
       "       [ 6.1,  8. ,  5. ,  2. ,  0. ],\n",
       "       [ 4.2,  8. ,  4. ,  2. ,  0. ],\n",
       "       [ 7.1,  8. ,  3. ,  2. ,  0. ],\n",
       "       [ 1.2,  8. ,  2. ,  2. ,  0. ],\n",
       "       [ 4.2,  8. ,  2. ,  2. ,  0. ],\n",
       "       [ 2.2,  8. ,  1. ,  2. ,  0. ],\n",
       "       [ 2.1,  6. ,  1. ,  3. ,  0. ],\n",
       "       [ 7.2,  6. ,  0. ,  3. ,  0. ],\n",
       "       [ 1.2,  6. ,  0. ,  3. ,  0. ]])"
      ]
     },
     "execution_count": 4,
     "metadata": {},
     "output_type": "execute_result"
    }
   ],
   "source": [
    "real_data_splits_train[0][0][1]"
   ]
  },
  {
   "cell_type": "code",
   "execution_count": 5,
   "metadata": {},
   "outputs": [],
   "source": [
    "n_participants_per_split = 19 # 20 but one is removed in each split for testing\n",
    "simulations_per_participant = 1000\n",
    "n_added_simulations_per_participant = 5\n",
    "n_runs = 20\n",
    "n_epochs = 700"
   ]
  },
  {
   "cell_type": "code",
   "execution_count": 6,
   "metadata": {},
   "outputs": [],
   "source": [
    "def add_simulated_data(X_train, y_train, simulated_train_set):\n",
    "    for n in range(n_added_simulations_per_participant):\n",
    "        for i in range(n_participants_per_split):\n",
    "\n",
    "            X_train_simulated_1 = simulated_train_set[0][(i * simulations_per_participant) + n]\n",
    "            y_train_simulated_1 = simulated_train_set[1][(i * simulations_per_participant) + n]\n",
    "            X_train_simulated_2 = simulated_train_set[0][(simulations_per_participant * n_participants_per_split) \\\n",
    "                                                         + (i * simulations_per_participant) + n]\n",
    "            y_train_simulated_2 = simulated_train_set[1][(simulations_per_participant * n_participants_per_split) \\\n",
    "                                                         + (i * simulations_per_participant) + n]\n",
    "            \n",
    "            X_train_simulated = np.concatenate((X_train_simulated_1[np.newaxis, :, :], \\\n",
    "                                               X_train_simulated_2[np.newaxis, :, :]), axis=0)\n",
    "            y_train_simulated = np.concatenate((y_train_simulated_1[np.newaxis, :], \\\n",
    "                                               y_train_simulated_2[np.newaxis, :]), axis=0)\n",
    "\n",
    "            X_train = np.concatenate((X_train, X_train_simulated), axis=0)\n",
    "            y_train = np.concatenate((y_train, y_train_simulated), axis=0)\n",
    "    return X_train, y_train"
   ]
  },
  {
   "cell_type": "code",
   "execution_count": 7,
   "metadata": {},
   "outputs": [],
   "source": [
    "def mean_score_of_run(histories, epochs):\n",
    "    mean_val_losses = []\n",
    "    mean_val_accuracies = []\n",
    "    mean_losses = []\n",
    "    mean_accuracies = []\n",
    "    for i in range(epochs):\n",
    "        val_losses = []\n",
    "        val_accuracies = []\n",
    "        losses = []\n",
    "        accuracies = []\n",
    "        for l in range(len(histories)):\n",
    "            history = histories[l]\n",
    "            val_losses.append(history.history['val_loss'][i])\n",
    "            val_accuracies.append(history.history['val_accuracy'][i])\n",
    "            losses.append(history.history['loss'][i])\n",
    "            accuracies.append(history.history['accuracy'][i])\n",
    "        mean_val_losses.append(np.mean(val_losses))\n",
    "        mean_val_accuracies.append(np.mean(val_accuracies))\n",
    "        mean_losses.append(np.mean(losses))\n",
    "        mean_accuracies.append(np.mean(accuracies))\n",
    "    return mean_val_losses, mean_val_accuracies, mean_losses, mean_accuracies"
   ]
  },
  {
   "cell_type": "code",
   "execution_count": 8,
   "metadata": {},
   "outputs": [],
   "source": [
    "def mean_score_over_all_runs(mean_run_scores, n_runs):\n",
    "    val_losses = np.asarray(mean_run_scores[0][0])\n",
    "    val_accuracies = np.asarray(mean_run_scores[0][1])\n",
    "    losses = np.asarray(mean_run_scores[0][2])\n",
    "    accuracies = np.asarray(mean_run_scores[0][3])\n",
    "                            \n",
    "    for i in range(1, n_runs):\n",
    "        val_losses += np.asarray(mean_run_scores[i][0])\n",
    "        val_accuracies += np.asarray(mean_run_scores[i][1])\n",
    "        losses += np.asarray(mean_run_scores[i][2])\n",
    "        accuracies += np.asarray(mean_run_scores[i][3])\n",
    "                                 \n",
    "    val_losses /= n_runs\n",
    "    val_accuracies /= n_runs\n",
    "    losses /= n_runs\n",
    "    accuracies /= n_runs\n",
    "    \n",
    "    return val_losses, val_accuracies, losses, accuracies"
   ]
  },
  {
   "cell_type": "code",
   "execution_count": 9,
   "metadata": {},
   "outputs": [],
   "source": [
    "opt = keras.optimizers.Adam(learning_rate=0.0001)"
   ]
  },
  {
   "cell_type": "code",
   "execution_count": 10,
   "metadata": {},
   "outputs": [],
   "source": [
    "def create_and_train(X_train, y_train, X_test, y_test, n_epochs=n_epochs):\n",
    "    verbose, epochs, batch_size = 0, n_epochs, 32 \n",
    "    n_timesteps, n_features, n_outputs = X_train.shape[1], X_train.shape[2], y_train.shape[1]\n",
    "    model = Sequential()\n",
    "    model.add(Conv1D(filters=32, kernel_size=5, activation='relu', input_shape=(n_timesteps,n_features)))\n",
    "    model.add(Conv1D(filters=32, kernel_size=5, activation='relu'))\n",
    "    model.add(Dropout(0.5))\n",
    "    model.add(MaxPooling1D(pool_size=2))\n",
    "    model.add(Flatten())\n",
    "    model.add(Dense(100, activation='relu'))\n",
    "    model.add(Dense(n_outputs, activation='softmax'))\n",
    "    #print(X_train.shape, y_train.shape, X_test.shape, y_test.shape)\n",
    "    model.compile(loss='categorical_crossentropy', optimizer=opt, metrics=['accuracy'])\n",
    "    history = model.fit(X_train, y_train, epochs=epochs, batch_size=batch_size, verbose=verbose, \n",
    "                        shuffle=True, validation_data=(X_test, y_test))\n",
    "    histories.append(history)"
   ]
  },
  {
   "cell_type": "code",
   "execution_count": 11,
   "metadata": {},
   "outputs": [
    {
     "data": {
      "application/vnd.jupyter.widget-view+json": {
       "model_id": "d7d67aca9fe8420cac016f580e4888bf",
       "version_major": 2,
       "version_minor": 0
      },
      "text/plain": [
       "HBox(children=(FloatProgress(value=0.0, description='Runs', max=20.0, style=ProgressStyle(description_width='i…"
      ]
     },
     "metadata": {},
     "output_type": "display_data"
    },
    {
     "data": {
      "application/vnd.jupyter.widget-view+json": {
       "model_id": "6ceef87e6d214d00b5aed9760e5e256d",
       "version_major": 2,
       "version_minor": 0
      },
      "text/plain": [
       "HBox(children=(FloatProgress(value=0.0, description='Folds', max=20.0, style=ProgressStyle(description_width='…"
      ]
     },
     "metadata": {},
     "output_type": "display_data"
    },
    {
     "name": "stdout",
     "output_type": "stream",
     "text": [
      "\n"
     ]
    },
    {
     "data": {
      "application/vnd.jupyter.widget-view+json": {
       "model_id": "b6e7e17722e648e4a0e078c111d9eb1f",
       "version_major": 2,
       "version_minor": 0
      },
      "text/plain": [
       "HBox(children=(FloatProgress(value=0.0, description='Folds', max=20.0, style=ProgressStyle(description_width='…"
      ]
     },
     "metadata": {},
     "output_type": "display_data"
    },
    {
     "name": "stdout",
     "output_type": "stream",
     "text": [
      "\n"
     ]
    },
    {
     "data": {
      "application/vnd.jupyter.widget-view+json": {
       "model_id": "018f431266964781910920e5de2f824d",
       "version_major": 2,
       "version_minor": 0
      },
      "text/plain": [
       "HBox(children=(FloatProgress(value=0.0, description='Folds', max=20.0, style=ProgressStyle(description_width='…"
      ]
     },
     "metadata": {},
     "output_type": "display_data"
    },
    {
     "name": "stdout",
     "output_type": "stream",
     "text": [
      "\n"
     ]
    },
    {
     "data": {
      "application/vnd.jupyter.widget-view+json": {
       "model_id": "4634e17c0b20471d945d0512510603c8",
       "version_major": 2,
       "version_minor": 0
      },
      "text/plain": [
       "HBox(children=(FloatProgress(value=0.0, description='Folds', max=20.0, style=ProgressStyle(description_width='…"
      ]
     },
     "metadata": {},
     "output_type": "display_data"
    },
    {
     "name": "stdout",
     "output_type": "stream",
     "text": [
      "\n"
     ]
    },
    {
     "data": {
      "application/vnd.jupyter.widget-view+json": {
       "model_id": "402e280f135f4904979986a292e1ebdc",
       "version_major": 2,
       "version_minor": 0
      },
      "text/plain": [
       "HBox(children=(FloatProgress(value=0.0, description='Folds', max=20.0, style=ProgressStyle(description_width='…"
      ]
     },
     "metadata": {},
     "output_type": "display_data"
    },
    {
     "name": "stdout",
     "output_type": "stream",
     "text": [
      "\n"
     ]
    },
    {
     "data": {
      "application/vnd.jupyter.widget-view+json": {
       "model_id": "b2404f1fd9354c4192e1f6005e69e040",
       "version_major": 2,
       "version_minor": 0
      },
      "text/plain": [
       "HBox(children=(FloatProgress(value=0.0, description='Folds', max=20.0, style=ProgressStyle(description_width='…"
      ]
     },
     "metadata": {},
     "output_type": "display_data"
    },
    {
     "name": "stdout",
     "output_type": "stream",
     "text": [
      "\n"
     ]
    },
    {
     "data": {
      "application/vnd.jupyter.widget-view+json": {
       "model_id": "d7917d36844d4eef99ebb6008e5b54d3",
       "version_major": 2,
       "version_minor": 0
      },
      "text/plain": [
       "HBox(children=(FloatProgress(value=0.0, description='Folds', max=20.0, style=ProgressStyle(description_width='…"
      ]
     },
     "metadata": {},
     "output_type": "display_data"
    },
    {
     "name": "stdout",
     "output_type": "stream",
     "text": [
      "\n"
     ]
    },
    {
     "data": {
      "application/vnd.jupyter.widget-view+json": {
       "model_id": "edfedccfe2104d3198c00ed1dd17e4a8",
       "version_major": 2,
       "version_minor": 0
      },
      "text/plain": [
       "HBox(children=(FloatProgress(value=0.0, description='Folds', max=20.0, style=ProgressStyle(description_width='…"
      ]
     },
     "metadata": {},
     "output_type": "display_data"
    },
    {
     "name": "stdout",
     "output_type": "stream",
     "text": [
      "\n"
     ]
    },
    {
     "data": {
      "application/vnd.jupyter.widget-view+json": {
       "model_id": "87eeffd56d1b4bbf97d23e573424a375",
       "version_major": 2,
       "version_minor": 0
      },
      "text/plain": [
       "HBox(children=(FloatProgress(value=0.0, description='Folds', max=20.0, style=ProgressStyle(description_width='…"
      ]
     },
     "metadata": {},
     "output_type": "display_data"
    },
    {
     "name": "stdout",
     "output_type": "stream",
     "text": [
      "\n"
     ]
    },
    {
     "data": {
      "application/vnd.jupyter.widget-view+json": {
       "model_id": "e67007c4cb424fed8a08ee06f94dcbfd",
       "version_major": 2,
       "version_minor": 0
      },
      "text/plain": [
       "HBox(children=(FloatProgress(value=0.0, description='Folds', max=20.0, style=ProgressStyle(description_width='…"
      ]
     },
     "metadata": {},
     "output_type": "display_data"
    },
    {
     "name": "stdout",
     "output_type": "stream",
     "text": [
      "\n"
     ]
    },
    {
     "data": {
      "application/vnd.jupyter.widget-view+json": {
       "model_id": "5d32302fb4294775bb37bf1f3d615a18",
       "version_major": 2,
       "version_minor": 0
      },
      "text/plain": [
       "HBox(children=(FloatProgress(value=0.0, description='Folds', max=20.0, style=ProgressStyle(description_width='…"
      ]
     },
     "metadata": {},
     "output_type": "display_data"
    },
    {
     "name": "stdout",
     "output_type": "stream",
     "text": [
      "\n"
     ]
    },
    {
     "data": {
      "application/vnd.jupyter.widget-view+json": {
       "model_id": "94812884401045c5843f827e63e91aba",
       "version_major": 2,
       "version_minor": 0
      },
      "text/plain": [
       "HBox(children=(FloatProgress(value=0.0, description='Folds', max=20.0, style=ProgressStyle(description_width='…"
      ]
     },
     "metadata": {},
     "output_type": "display_data"
    },
    {
     "name": "stdout",
     "output_type": "stream",
     "text": [
      "\n"
     ]
    },
    {
     "data": {
      "application/vnd.jupyter.widget-view+json": {
       "model_id": "314a8c800d1045bbb9658cdf2505ab79",
       "version_major": 2,
       "version_minor": 0
      },
      "text/plain": [
       "HBox(children=(FloatProgress(value=0.0, description='Folds', max=20.0, style=ProgressStyle(description_width='…"
      ]
     },
     "metadata": {},
     "output_type": "display_data"
    },
    {
     "name": "stdout",
     "output_type": "stream",
     "text": [
      "\n"
     ]
    },
    {
     "data": {
      "application/vnd.jupyter.widget-view+json": {
       "model_id": "715e0d936e4d4f09ac6a5b5540ee3130",
       "version_major": 2,
       "version_minor": 0
      },
      "text/plain": [
       "HBox(children=(FloatProgress(value=0.0, description='Folds', max=20.0, style=ProgressStyle(description_width='…"
      ]
     },
     "metadata": {},
     "output_type": "display_data"
    },
    {
     "name": "stdout",
     "output_type": "stream",
     "text": [
      "\n"
     ]
    },
    {
     "data": {
      "application/vnd.jupyter.widget-view+json": {
       "model_id": "7addcb5f9e014867905b25a64f2f6194",
       "version_major": 2,
       "version_minor": 0
      },
      "text/plain": [
       "HBox(children=(FloatProgress(value=0.0, description='Folds', max=20.0, style=ProgressStyle(description_width='…"
      ]
     },
     "metadata": {},
     "output_type": "display_data"
    },
    {
     "name": "stdout",
     "output_type": "stream",
     "text": [
      "\n"
     ]
    },
    {
     "data": {
      "application/vnd.jupyter.widget-view+json": {
       "model_id": "8c2297c0dd524b58be211ad438c8bb48",
       "version_major": 2,
       "version_minor": 0
      },
      "text/plain": [
       "HBox(children=(FloatProgress(value=0.0, description='Folds', max=20.0, style=ProgressStyle(description_width='…"
      ]
     },
     "metadata": {},
     "output_type": "display_data"
    },
    {
     "name": "stdout",
     "output_type": "stream",
     "text": [
      "\n"
     ]
    },
    {
     "data": {
      "application/vnd.jupyter.widget-view+json": {
       "model_id": "96b5430d997445a09418322ccefa04aa",
       "version_major": 2,
       "version_minor": 0
      },
      "text/plain": [
       "HBox(children=(FloatProgress(value=0.0, description='Folds', max=20.0, style=ProgressStyle(description_width='…"
      ]
     },
     "metadata": {},
     "output_type": "display_data"
    },
    {
     "name": "stdout",
     "output_type": "stream",
     "text": [
      "\n"
     ]
    },
    {
     "data": {
      "application/vnd.jupyter.widget-view+json": {
       "model_id": "6b16749f8d004062bc06265c33338f60",
       "version_major": 2,
       "version_minor": 0
      },
      "text/plain": [
       "HBox(children=(FloatProgress(value=0.0, description='Folds', max=20.0, style=ProgressStyle(description_width='…"
      ]
     },
     "metadata": {},
     "output_type": "display_data"
    },
    {
     "name": "stdout",
     "output_type": "stream",
     "text": [
      "\n"
     ]
    },
    {
     "data": {
      "application/vnd.jupyter.widget-view+json": {
       "model_id": "45c4994bf9de47ca9bd507ff7602a9aa",
       "version_major": 2,
       "version_minor": 0
      },
      "text/plain": [
       "HBox(children=(FloatProgress(value=0.0, description='Folds', max=20.0, style=ProgressStyle(description_width='…"
      ]
     },
     "metadata": {},
     "output_type": "display_data"
    },
    {
     "name": "stdout",
     "output_type": "stream",
     "text": [
      "\n"
     ]
    },
    {
     "data": {
      "application/vnd.jupyter.widget-view+json": {
       "model_id": "d836f61d0d684311b88b9e7adfc3e759",
       "version_major": 2,
       "version_minor": 0
      },
      "text/plain": [
       "HBox(children=(FloatProgress(value=0.0, description='Folds', max=20.0, style=ProgressStyle(description_width='…"
      ]
     },
     "metadata": {},
     "output_type": "display_data"
    },
    {
     "name": "stdout",
     "output_type": "stream",
     "text": [
      "\n",
      "\n"
     ]
    }
   ],
   "source": [
    "mean_run_scores = []\n",
    "for i in trange(n_runs, desc='Runs'): \n",
    "    histories = []\n",
    "    for train_set, test_set, simulated_train_set in tqdm(zip(real_data_splits_train, \\\n",
    "                                    real_data_splits_test, simulated_data_splits_train), total=20, desc='Folds'):\n",
    "        X_train = train_set[0]\n",
    "        y_train = train_set[1]\n",
    "        X_test = test_set[0]\n",
    "        y_test = test_set[1]\n",
    "        \n",
    "        # Adding simulated data. \n",
    "        X_train, y_train = add_simulated_data(X_train, y_train, simulated_train_set)\n",
    "        \n",
    "        #print(X_train.shape)\n",
    "        #print(y_train.shape)\n",
    "\n",
    "        # Shuffling training data\n",
    "        temp_train = list(zip(X_train.tolist(), y_train.tolist()))\n",
    "        random.shuffle(temp_train)\n",
    "        X_train, y_train = zip(*temp_train)\n",
    "        \n",
    "        create_and_train(np.asarray(X_train), np.asarray(y_train), X_test, y_test)\n",
    "        \n",
    "    mean_run_score = mean_score_of_run(histories=histories, epochs=n_epochs)\n",
    "    mean_run_scores.append(mean_run_score)"
   ]
  },
  {
   "cell_type": "code",
   "execution_count": 12,
   "metadata": {},
   "outputs": [
    {
     "data": {
      "text/plain": [
       "array([0.53375, 0.5825 , 0.61125, 0.6325 , 0.6625 , 0.66125, 0.6775 ,\n",
       "       0.675  , 0.67125, 0.68375, 0.6825 , 0.68   , 0.695  , 0.69625,\n",
       "       0.6975 , 0.685  , 0.69375, 0.69   , 0.68875, 0.7    , 0.695  ,\n",
       "       0.7025 , 0.69   , 0.6975 , 0.7025 , 0.7075 , 0.71125, 0.69625,\n",
       "       0.6975 , 0.695  , 0.71375, 0.71625, 0.7075 , 0.7075 , 0.71375,\n",
       "       0.7075 , 0.70875, 0.70875, 0.70125, 0.70875, 0.70875, 0.71   ,\n",
       "       0.70875, 0.71125, 0.72125, 0.70875, 0.715  , 0.72125, 0.71875,\n",
       "       0.7225 , 0.71625, 0.7175 , 0.7125 , 0.7025 , 0.70375, 0.71625,\n",
       "       0.71875, 0.71875, 0.705  , 0.71625, 0.71625, 0.71625, 0.70875,\n",
       "       0.71125, 0.715  , 0.7125 , 0.71375, 0.7175 , 0.71875, 0.71125,\n",
       "       0.71375, 0.72125, 0.71625, 0.71125, 0.71   , 0.71125, 0.72   ,\n",
       "       0.72   , 0.71375, 0.71   , 0.71625, 0.72   , 0.71   , 0.72375,\n",
       "       0.715  , 0.71875, 0.7275 , 0.72   , 0.71875, 0.72375, 0.72125,\n",
       "       0.72   , 0.71875, 0.71875, 0.72375, 0.72125, 0.72125, 0.72125,\n",
       "       0.72   , 0.72125, 0.71625, 0.7175 , 0.72125, 0.72375, 0.72375,\n",
       "       0.72125, 0.71875, 0.7275 , 0.725  , 0.72125, 0.7225 , 0.7325 ,\n",
       "       0.72   , 0.72375, 0.735  , 0.7275 , 0.71875, 0.72375, 0.72625,\n",
       "       0.71875, 0.72375, 0.72   , 0.72625, 0.72625, 0.72875, 0.72   ,\n",
       "       0.725  , 0.71375, 0.72875, 0.73125, 0.73   , 0.7275 , 0.725  ,\n",
       "       0.725  , 0.72875, 0.72875, 0.7275 , 0.725  , 0.73375, 0.72375,\n",
       "       0.7225 , 0.73   , 0.72125, 0.72125, 0.7225 , 0.7225 , 0.73125,\n",
       "       0.7275 , 0.73   , 0.7225 , 0.72625, 0.72125, 0.7275 , 0.72625,\n",
       "       0.72625, 0.72   , 0.72125, 0.7225 , 0.72875, 0.72125, 0.7275 ,\n",
       "       0.72375, 0.73   , 0.72875, 0.72875, 0.7275 , 0.73   , 0.72625,\n",
       "       0.73   , 0.73125, 0.73125, 0.725  , 0.7275 , 0.73625, 0.73625,\n",
       "       0.73125, 0.725  , 0.7275 , 0.73   , 0.7275 , 0.72875, 0.72875,\n",
       "       0.7275 , 0.72375, 0.73   , 0.7225 , 0.725  , 0.72   , 0.72875,\n",
       "       0.72375, 0.72125, 0.72125, 0.72875, 0.72625, 0.7175 , 0.72375,\n",
       "       0.73125, 0.72125, 0.7275 , 0.72875, 0.7325 , 0.73375, 0.72875,\n",
       "       0.73   , 0.73375, 0.73375, 0.72375, 0.72625, 0.72125, 0.7275 ,\n",
       "       0.72875, 0.735  , 0.7325 , 0.73   , 0.725  , 0.715  , 0.72625,\n",
       "       0.73   , 0.73   , 0.7325 , 0.73625, 0.73125, 0.72125, 0.73125,\n",
       "       0.72875, 0.73375, 0.7225 , 0.7325 , 0.7375 , 0.73875, 0.7275 ,\n",
       "       0.72875, 0.72875, 0.74125, 0.73625, 0.7325 , 0.725  , 0.73375,\n",
       "       0.7375 , 0.735  , 0.73   , 0.73375, 0.7325 , 0.7325 , 0.7325 ,\n",
       "       0.7325 , 0.725  , 0.73625, 0.73   , 0.72375, 0.735  , 0.72625,\n",
       "       0.72875, 0.72625, 0.73   , 0.73   , 0.725  , 0.72625, 0.72625,\n",
       "       0.72125, 0.72625, 0.72625, 0.72875, 0.73375, 0.72875, 0.72375,\n",
       "       0.7325 , 0.73   , 0.73125, 0.7275 , 0.725  , 0.73375, 0.7275 ,\n",
       "       0.7225 , 0.72   , 0.7325 , 0.74   , 0.73125, 0.72875, 0.72875,\n",
       "       0.7275 , 0.7275 , 0.73375, 0.725  , 0.725  , 0.7325 , 0.73125,\n",
       "       0.73125, 0.72875, 0.7275 , 0.73   , 0.7275 , 0.72875, 0.73125,\n",
       "       0.73375, 0.72875, 0.72375, 0.72875, 0.7275 , 0.7175 , 0.715  ,\n",
       "       0.715  , 0.72875, 0.73   , 0.7275 , 0.725  , 0.72375, 0.72125,\n",
       "       0.72375, 0.72625, 0.725  , 0.73125, 0.7275 , 0.72875, 0.73375,\n",
       "       0.73   , 0.72125, 0.7275 , 0.72125, 0.72625, 0.72875, 0.73   ,\n",
       "       0.73   , 0.73   , 0.72375, 0.725  , 0.72   , 0.72   , 0.73125,\n",
       "       0.7275 , 0.725  , 0.72875, 0.72625, 0.72875, 0.7325 , 0.72625,\n",
       "       0.7275 , 0.72125, 0.73   , 0.725  , 0.73125, 0.7325 , 0.73375,\n",
       "       0.73125, 0.7275 , 0.72875, 0.7225 , 0.7225 , 0.72   , 0.71625,\n",
       "       0.72375, 0.72875, 0.73   , 0.72875, 0.72625, 0.7325 , 0.72375,\n",
       "       0.7275 , 0.7225 , 0.72625, 0.73   , 0.73125, 0.7325 , 0.73375,\n",
       "       0.7275 , 0.73   , 0.7325 , 0.725  , 0.72625, 0.73   , 0.72625,\n",
       "       0.735  , 0.73125, 0.72375, 0.72375, 0.72875, 0.73   , 0.73125,\n",
       "       0.7275 , 0.72875, 0.73375, 0.7375 , 0.73125, 0.72875, 0.73125,\n",
       "       0.7175 , 0.72   , 0.72125, 0.73   , 0.73   , 0.73375, 0.72875,\n",
       "       0.73   , 0.73125, 0.73375, 0.7275 , 0.73375, 0.72875, 0.72125,\n",
       "       0.72125, 0.72   , 0.7225 , 0.72875, 0.72625, 0.7225 , 0.7225 ,\n",
       "       0.7275 , 0.73125, 0.72625, 0.72875, 0.7225 , 0.72125, 0.725  ,\n",
       "       0.72875, 0.73125, 0.72875, 0.72875, 0.72375, 0.72875, 0.72875,\n",
       "       0.72875, 0.725  , 0.7225 , 0.72375, 0.7225 , 0.72375, 0.725  ,\n",
       "       0.73125, 0.72   , 0.71875, 0.725  , 0.73   , 0.73375, 0.72625,\n",
       "       0.7225 , 0.73   , 0.72875, 0.72375, 0.7275 , 0.73   , 0.7275 ,\n",
       "       0.72625, 0.73125, 0.72375, 0.73   , 0.72375, 0.725  , 0.72125,\n",
       "       0.72875, 0.72375, 0.725  , 0.72   , 0.725  , 0.72625, 0.73625,\n",
       "       0.73125, 0.72625, 0.72125, 0.72125, 0.72   , 0.725  , 0.72   ,\n",
       "       0.725  , 0.72625, 0.73125, 0.72375, 0.7225 , 0.73125, 0.72375,\n",
       "       0.7225 , 0.7225 , 0.72875, 0.7275 , 0.725  , 0.73375, 0.73   ,\n",
       "       0.725  , 0.725  , 0.72375, 0.7275 , 0.73   , 0.72   , 0.725  ,\n",
       "       0.725  , 0.72375, 0.7325 , 0.7275 , 0.72625, 0.725  , 0.7175 ,\n",
       "       0.71875, 0.72125, 0.72125, 0.72375, 0.7225 , 0.72125, 0.7275 ,\n",
       "       0.725  , 0.725  , 0.7275 , 0.73375, 0.725  , 0.72625, 0.72875,\n",
       "       0.73125, 0.72625, 0.725  , 0.73125, 0.7275 , 0.7225 , 0.725  ,\n",
       "       0.72125, 0.725  , 0.7225 , 0.72875, 0.7275 , 0.72   , 0.7225 ,\n",
       "       0.725  , 0.7225 , 0.72625, 0.72625, 0.7225 , 0.72   , 0.73125,\n",
       "       0.72   , 0.7225 , 0.7225 , 0.73   , 0.73   , 0.7325 , 0.73   ,\n",
       "       0.72375, 0.725  , 0.725  , 0.73   , 0.72375, 0.72625, 0.7325 ,\n",
       "       0.7325 , 0.73375, 0.72   , 0.725  , 0.72625, 0.7325 , 0.73125,\n",
       "       0.725  , 0.72375, 0.7225 , 0.7175 , 0.72625, 0.72375, 0.72625,\n",
       "       0.725  , 0.7175 , 0.72375, 0.7275 , 0.7275 , 0.725  , 0.72625,\n",
       "       0.7225 , 0.725  , 0.725  , 0.71875, 0.72375, 0.725  , 0.73375,\n",
       "       0.7325 , 0.7275 , 0.72875, 0.73625, 0.7275 , 0.72875, 0.72375,\n",
       "       0.73   , 0.7275 , 0.7275 , 0.72625, 0.725  , 0.7275 , 0.72125,\n",
       "       0.72   , 0.71625, 0.72375, 0.72625, 0.7225 , 0.725  , 0.72375,\n",
       "       0.725  , 0.7275 , 0.7275 , 0.725  , 0.7175 , 0.72375, 0.72625,\n",
       "       0.72625, 0.7275 , 0.72625, 0.725  , 0.73   , 0.7275 , 0.7275 ,\n",
       "       0.72625, 0.7275 , 0.72375, 0.7225 , 0.73375, 0.725  , 0.72875,\n",
       "       0.7275 , 0.72875, 0.73375, 0.735  , 0.72375, 0.735  , 0.7325 ,\n",
       "       0.72625, 0.7275 , 0.72375, 0.7275 , 0.72875, 0.72   , 0.7275 ,\n",
       "       0.72875, 0.72375, 0.7175 , 0.7275 , 0.735  , 0.72625, 0.7325 ,\n",
       "       0.73375, 0.7175 , 0.72625, 0.7275 , 0.73   , 0.725  , 0.73   ,\n",
       "       0.73125, 0.71875, 0.72375, 0.7275 , 0.72875, 0.72625, 0.73   ,\n",
       "       0.73375, 0.7225 , 0.71625, 0.72125, 0.72625, 0.72375, 0.71875,\n",
       "       0.72375, 0.71625, 0.71625, 0.72   , 0.7275 , 0.73   , 0.7225 ,\n",
       "       0.7275 , 0.7275 , 0.7325 , 0.7275 , 0.73   , 0.73   , 0.72625,\n",
       "       0.7225 , 0.72375, 0.72375, 0.72375, 0.7275 , 0.73   , 0.7225 ,\n",
       "       0.7275 , 0.72125, 0.7225 , 0.7225 , 0.7275 , 0.73375, 0.73125,\n",
       "       0.73375, 0.72875, 0.73   , 0.7325 , 0.73   , 0.72875, 0.72875,\n",
       "       0.7275 , 0.725  , 0.72   , 0.72125, 0.72375, 0.725  , 0.72   ,\n",
       "       0.72375, 0.72875, 0.7275 , 0.725  , 0.7225 , 0.72625, 0.71875])"
      ]
     },
     "execution_count": 12,
     "metadata": {},
     "output_type": "execute_result"
    }
   ],
   "source": [
    "mean_val_losses, mean_val_accuracies, mean_losses, mean_accuracies = mean_score_over_all_runs(mean_run_scores, n_runs)\n",
    "mean_val_accuracies"
   ]
  },
  {
   "cell_type": "code",
   "execution_count": 13,
   "metadata": {},
   "outputs": [
    {
     "data": {
      "image/png": "[encoded data removed]",
      "text/plain": [
       "<Figure size 432x288 with 1 Axes>"
      ]
     },
     "metadata": {
      "needs_background": "light"
     },
     "output_type": "display_data"
    }
   ],
   "source": [
    "plt.title('glareObs_noAdapt: Best validation accuracy %s%% (at epoch %s)' \\\n",
    "          %(round(mean_val_accuracies.max() * 100, 2), np.argmax(mean_val_accuracies) + 1))\n",
    "plt.plot(mean_accuracies)\n",
    "plt.plot(mean_val_accuracies)\n",
    "plt.ylabel('accuracy')\n",
    "plt.xlabel('epoch')\n",
    "plt.legend(['train(RD_SD%sx)' %n_added_simulations_per_participant, 'validation(RD)'], loc='lower right')\n",
    "plt.show()"
   ]
  },
  {
   "cell_type": "code",
   "execution_count": 14,
   "metadata": {},
   "outputs": [
    {
     "data": {
      "image/png": "[encoded data removed]",
      "text/plain": [
       "<Figure size 432x288 with 1 Axes>"
      ]
     },
     "metadata": {
      "needs_background": "light"
     },
     "output_type": "display_data"
    }
   ],
   "source": [
    "plt.title('glareObs_noAdapt: Lowest validation loss %s (at epoch %s)' \\\n",
    "          %(round(mean_val_losses.min(), 4), np.argmin(mean_val_losses) + 1))\n",
    "plt.plot(mean_losses)\n",
    "plt.plot(mean_val_losses)\n",
    "plt.ylabel('loss')\n",
    "plt.xlabel('epoch')\n",
    "plt.legend(['train(RD_SD%sx)' %n_added_simulations_per_participant, 'validation(RD)'], loc='upper right')\n",
    "plt.show()"
   ]
  }
 ],
 "metadata": {
  "kernelspec": {
   "display_name": "Python 3",
   "language": "python",
   "name": "python3"
  },
  "language_info": {
   "codemirror_mode": {
    "name": "ipython",
    "version": 3
   },
   "file_extension": ".py",
   "mimetype": "text/x-python",
   "name": "python",
   "nbconvert_exporter": "python",
   "pygments_lexer": "ipython3",
   "version": "3.7.6"
  }
 },
 "nbformat": 4,
 "nbformat_minor": 4
}
