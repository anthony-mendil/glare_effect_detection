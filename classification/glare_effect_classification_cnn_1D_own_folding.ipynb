{
 "cells": [
  {
   "cell_type": "code",
   "execution_count": 1336,
   "metadata": {},
   "outputs": [],
   "source": [
    "import numpy as np\n",
    "from sklearn.model_selection import train_test_split\n",
    "import matplotlib.pyplot as plt\n",
    "from sklearn.model_selection import StratifiedKFold\n",
    "from sklearn.preprocessing import LabelEncoder\n",
    "\n",
    "import keras\n",
    "from keras.layers import Conv1D, Dense, Dropout, Input, Concatenate, GlobalMaxPooling1D, MaxPooling1D, Flatten\n",
    "from keras.models import Model, Sequential"
   ]
  },
  {
   "cell_type": "code",
   "execution_count": 1337,
   "metadata": {},
   "outputs": [],
   "source": [
    "realData = np.load('C:\\\\Users\\\\dylin\\\\Documents\\\\BA_Glare_Effect\\\\classification_data\\\\real\\\\realData.npy')\n",
    "X_realData = np.load('C:\\\\Users\\\\dylin\\\\Documents\\\\BA_Glare_Effect\\\\classification_data\\\\real\\\\X_realData.npy')\n",
    "y_realData = np.load('C:\\\\Users\\\\dylin\\\\Documents\\\\BA_Glare_Effect\\\\classification_data\\\\real\\\\y_realData.npy')"
   ]
  },
  {
   "cell_type": "code",
   "execution_count": 1338,
   "metadata": {},
   "outputs": [],
   "source": [
    "X_train, X_test, y_train, y_test = train_test_split(X_realData, y_realData, test_size=0.25, random_state=42)"
   ]
  },
  {
   "cell_type": "code",
   "execution_count": 1339,
   "metadata": {},
   "outputs": [
    {
     "data": {
      "text/plain": [
       "array([[[ 1.1, 14. , 13. ,  1. ,  0. ],\n",
       "        [ 2.1, 14. , 12. ,  1. ,  0. ],\n",
       "        [ 3.1, 14. , 11. ,  1. ,  0. ],\n",
       "        [ 4.1, 14. , 10. ,  1. ,  0. ],\n",
       "        [ 2.1, 14. , 10. ,  2. ,  0. ],\n",
       "        [ 4.1, 14. , 10. ,  2. ,  0. ],\n",
       "        [ 5.1, 14. ,  9. ,  2. ,  0. ],\n",
       "        [ 4.1, 14. ,  9. ,  3. ,  0. ],\n",
       "        [ 6.1, 14. ,  8. ,  3. ,  0. ],\n",
       "        [ 4.2, 14. ,  7. ,  3. ,  0. ],\n",
       "        [ 2.1, 14. ,  7. ,  3. ,  0. ],\n",
       "        [ 4.2, 14. ,  7. ,  3. ,  0. ],\n",
       "        [ 3.2, 14. ,  6. ,  3. ,  0. ],\n",
       "        [ 6.2, 14. ,  5. ,  3. ,  0. ],\n",
       "        [ 7.1, 14. ,  4. ,  3. ,  0. ],\n",
       "        [ 5.1, 14. ,  4. ,  3. ,  0. ],\n",
       "        [ 4.1, 14. ,  4. ,  4. ,  0. ],\n",
       "        [ 7.1, 14. ,  4. ,  4. ,  0. ],\n",
       "        [ 5.2, 14. ,  3. ,  4. ,  0. ],\n",
       "        [ 7.1, 14. ,  3. ,  4. ,  0. ],\n",
       "        [ 2.2, 14. ,  2. ,  4. ,  0. ],\n",
       "        [ 1.2, 14. ,  1. ,  4. ,  0. ],\n",
       "        [ 1.1, 14. ,  1. ,  4. ,  0. ],\n",
       "        [ 2.2, 14. ,  1. ,  4. ,  0. ],\n",
       "        [ 7.2, 14. ,  0. ,  4. ,  0. ],\n",
       "        [ 7.1, 12. ,  0. ,  4. ,  0. ],\n",
       "        [ 6.1, 12. ,  0. ,  4. ,  0. ],\n",
       "        [ 1.1, 12. ,  0. ,  4. ,  0. ],\n",
       "        [ 2.2, 12. ,  0. ,  4. ,  0. ],\n",
       "        [ 6.1, 12. ,  0. ,  4. ,  0. ],\n",
       "        [ 4.2, 12. ,  0. ,  4. ,  0. ],\n",
       "        [ 2.1, 12. ,  0. ,  4. ,  0. ],\n",
       "        [ 4.1, 12. ,  0. ,  5. ,  0. ],\n",
       "        [ 4.2, 10. ,  0. ,  5. ,  0. ],\n",
       "        [ 3.2, 10. ,  0. ,  5. ,  0. ],\n",
       "        [ 3.1,  8. ,  0. ,  5. ,  0. ],\n",
       "        [ 2.1,  8. ,  0. ,  5. ,  0. ],\n",
       "        [ 6.2,  8. ,  0. ,  5. ,  0. ],\n",
       "        [ 5.2,  8. ,  0. ,  5. ,  0. ],\n",
       "        [ 2.2,  8. ,  0. ,  5. ,  0. ]],\n",
       "\n",
       "       [[ 1.1, 14. , 13. ,  1. ,  0. ],\n",
       "        [ 1.2, 12. , 12. ,  1. ,  0. ],\n",
       "        [ 2.1, 12. , 11. ,  1. ,  0. ],\n",
       "        [ 3.1, 12. , 10. ,  1. ,  0. ],\n",
       "        [ 4.1, 12. ,  9. ,  1. ,  0. ],\n",
       "        [ 5.1, 12. ,  8. ,  1. ,  0. ],\n",
       "        [ 6.1, 12. ,  7. ,  1. ,  0. ],\n",
       "        [ 6.2, 10. ,  6. ,  1. ,  0. ],\n",
       "        [ 2.2, 10. ,  5. ,  1. ,  0. ],\n",
       "        [ 5.2, 10. ,  4. ,  1. ,  0. ],\n",
       "        [ 4.1, 10. ,  4. ,  2. ,  0. ],\n",
       "        [ 3.2, 10. ,  3. ,  2. ,  0. ],\n",
       "        [ 7.1, 10. ,  2. ,  2. ,  0. ],\n",
       "        [ 7.2,  8. ,  1. ,  2. ,  0. ],\n",
       "        [ 4.2,  8. ,  0. ,  2. ,  0. ],\n",
       "        [ 4.1,  6. ,  0. ,  3. ,  0. ],\n",
       "        [ 3.2,  6. ,  0. ,  3. ,  0. ],\n",
       "        [ 5.1,  6. ,  0. ,  3. ,  0. ],\n",
       "        [ 5.2,  6. ,  0. ,  3. ,  0. ],\n",
       "        [ 5.1,  4. ,  0. ,  3. ,  0. ],\n",
       "        [ 2.2,  4. ,  0. ,  3. ,  0. ],\n",
       "        [ 2.1,  2. ,  0. ,  3. ,  0. ],\n",
       "        [ 3.1,  2. ,  0. ,  3. ,  0. ],\n",
       "        [ 3.2,  0. ,  0. ,  3. ,  0. ],\n",
       "        [ 0. ,  0. ,  0. ,  3. ,  1. ],\n",
       "        [ 0. ,  0. ,  0. ,  3. ,  2. ],\n",
       "        [ 0. ,  0. ,  0. ,  3. ,  3. ],\n",
       "        [ 0. ,  0. ,  0. ,  3. ,  4. ],\n",
       "        [ 0. ,  0. ,  0. ,  3. ,  5. ],\n",
       "        [ 0. ,  0. ,  0. ,  3. ,  6. ],\n",
       "        [ 0. ,  0. ,  0. ,  3. ,  7. ],\n",
       "        [ 0. ,  0. ,  0. ,  3. ,  8. ],\n",
       "        [ 0. ,  0. ,  0. ,  3. ,  9. ],\n",
       "        [ 0. ,  0. ,  0. ,  3. , 10. ],\n",
       "        [ 0. ,  0. ,  0. ,  3. , 11. ],\n",
       "        [ 0. ,  0. ,  0. ,  3. , 12. ],\n",
       "        [ 0. ,  0. ,  0. ,  3. , 13. ],\n",
       "        [ 0. ,  0. ,  0. ,  3. , 14. ],\n",
       "        [ 0. ,  0. ,  0. ,  3. , 15. ],\n",
       "        [ 0. ,  0. ,  0. ,  3. , 16. ]],\n",
       "\n",
       "       [[ 1.1, 14. , 13. ,  1. ,  0. ],\n",
       "        [ 2.1, 14. , 12. ,  1. ,  0. ],\n",
       "        [ 2.2, 14. , 11. ,  1. ,  0. ],\n",
       "        [ 1.1, 14. , 11. ,  2. ,  0. ],\n",
       "        [ 2.1, 14. , 11. ,  2. ,  0. ],\n",
       "        [ 2.2, 12. , 11. ,  2. ,  0. ],\n",
       "        [ 3.1, 12. , 10. ,  2. ,  0. ],\n",
       "        [ 1.2, 12. ,  9. ,  2. ,  0. ],\n",
       "        [ 4.1, 12. ,  8. ,  2. ,  0. ],\n",
       "        [ 5.1, 12. ,  7. ,  2. ,  0. ],\n",
       "        [ 5.1, 12. ,  7. ,  2. ,  0. ],\n",
       "        [ 1.1, 12. ,  7. ,  3. ,  0. ],\n",
       "        [ 4.2, 12. ,  6. ,  3. ,  0. ],\n",
       "        [ 4.1, 10. ,  6. ,  3. ,  0. ],\n",
       "        [ 6.1, 10. ,  5. ,  3. ,  0. ],\n",
       "        [ 1.2, 10. ,  5. ,  3. ,  0. ],\n",
       "        [ 3.1, 10. ,  5. ,  3. ,  0. ],\n",
       "        [ 6.1, 10. ,  5. ,  3. ,  0. ],\n",
       "        [ 7.1, 10. ,  4. ,  3. ,  0. ],\n",
       "        [ 1.1, 10. ,  4. ,  4. ,  0. ],\n",
       "        [ 3.2, 10. ,  3. ,  4. ,  0. ],\n",
       "        [ 3.1,  8. ,  3. ,  4. ,  0. ],\n",
       "        [ 7.2,  8. ,  2. ,  4. ,  0. ],\n",
       "        [ 6.2,  8. ,  1. ,  4. ,  0. ],\n",
       "        [ 5.2,  8. ,  0. ,  4. ,  0. ],\n",
       "        [ 6.2,  8. ,  0. ,  4. ,  0. ],\n",
       "        [ 6.2,  8. ,  0. ,  4. ,  0. ],\n",
       "        [ 7.1,  8. ,  0. ,  4. ,  0. ],\n",
       "        [ 5.1,  8. ,  0. ,  4. ,  0. ],\n",
       "        [ 6.2,  8. ,  0. ,  4. ,  0. ],\n",
       "        [ 6.2,  8. ,  0. ,  5. ,  0. ],\n",
       "        [ 1.2,  8. ,  0. ,  5. ,  0. ],\n",
       "        [ 7.2,  8. ,  0. ,  5. ,  0. ],\n",
       "        [ 6.2,  8. ,  0. ,  6. ,  0. ],\n",
       "        [ 7.2,  8. ,  0. ,  6. ,  0. ],\n",
       "        [ 5.2,  8. ,  0. ,  6. ,  0. ],\n",
       "        [ 1.1,  8. ,  0. ,  6. ,  0. ],\n",
       "        [ 6.2,  8. ,  0. ,  7. ,  0. ],\n",
       "        [ 1.2,  8. ,  0. ,  7. ,  0. ],\n",
       "        [ 6.2,  8. ,  0. ,  8. ,  0. ]]])"
      ]
     },
     "execution_count": 1339,
     "metadata": {},
     "output_type": "execute_result"
    }
   ],
   "source": [
    "X_train[:3]"
   ]
  },
  {
   "cell_type": "code",
   "execution_count": 1340,
   "metadata": {},
   "outputs": [
    {
     "data": {
      "text/plain": [
       "array([[[ 1.1, 14. , 13. ,  1. ,  0. ],\n",
       "        [ 2.1, 14. , 12. ,  1. ,  0. ],\n",
       "        [ 3.1, 14. , 11. ,  1. ,  0. ],\n",
       "        [ 4.1, 14. , 10. ,  1. ,  0. ],\n",
       "        [ 2.2, 14. ,  9. ,  1. ,  0. ],\n",
       "        [ 2.1, 12. ,  9. ,  2. ,  0. ],\n",
       "        [ 3.2, 12. ,  8. ,  2. ,  0. ],\n",
       "        [ 3.1, 10. ,  8. ,  2. ,  0. ],\n",
       "        [ 5.1, 10. ,  7. ,  2. ,  0. ],\n",
       "        [ 6.1, 10. ,  6. ,  2. ,  0. ],\n",
       "        [ 7.1, 10. ,  5. ,  2. ,  0. ],\n",
       "        [ 6.2, 10. ,  4. ,  2. ,  0. ],\n",
       "        [ 6.1, 10. ,  4. ,  2. ,  0. ],\n",
       "        [ 6.2,  8. ,  4. ,  2. ,  0. ],\n",
       "        [ 5.2,  8. ,  3. ,  2. ,  0. ],\n",
       "        [ 4.2,  8. ,  2. ,  2. ,  0. ],\n",
       "        [ 4.1,  8. ,  2. ,  2. ,  0. ],\n",
       "        [ 4.2,  6. ,  2. ,  2. ,  0. ],\n",
       "        [ 1.1,  6. ,  2. ,  2. ,  0. ],\n",
       "        [ 1.2,  4. ,  1. ,  2. ,  0. ],\n",
       "        [ 7.2,  4. ,  0. ,  2. ,  0. ],\n",
       "        [ 7.1,  2. ,  0. ,  2. ,  0. ],\n",
       "        [ 5.2,  2. ,  0. ,  2. ,  0. ],\n",
       "        [ 5.1,  0. ,  0. ,  2. ,  0. ],\n",
       "        [ 0. ,  0. ,  0. ,  2. ,  1. ],\n",
       "        [ 0. ,  0. ,  0. ,  2. ,  2. ],\n",
       "        [ 0. ,  0. ,  0. ,  2. ,  3. ],\n",
       "        [ 0. ,  0. ,  0. ,  2. ,  4. ],\n",
       "        [ 0. ,  0. ,  0. ,  2. ,  5. ],\n",
       "        [ 0. ,  0. ,  0. ,  2. ,  6. ],\n",
       "        [ 0. ,  0. ,  0. ,  2. ,  7. ],\n",
       "        [ 0. ,  0. ,  0. ,  2. ,  8. ],\n",
       "        [ 0. ,  0. ,  0. ,  2. ,  9. ],\n",
       "        [ 0. ,  0. ,  0. ,  2. , 10. ],\n",
       "        [ 0. ,  0. ,  0. ,  2. , 11. ],\n",
       "        [ 0. ,  0. ,  0. ,  2. , 12. ],\n",
       "        [ 0. ,  0. ,  0. ,  2. , 13. ],\n",
       "        [ 0. ,  0. ,  0. ,  2. , 14. ],\n",
       "        [ 0. ,  0. ,  0. ,  2. , 15. ],\n",
       "        [ 0. ,  0. ,  0. ,  2. , 16. ]],\n",
       "\n",
       "       [[ 1.1, 14. , 13. ,  1. ,  0. ],\n",
       "        [ 2.1, 14. , 12. ,  1. ,  0. ],\n",
       "        [ 3.1, 14. , 11. ,  1. ,  0. ],\n",
       "        [ 4.1, 14. , 10. ,  1. ,  0. ],\n",
       "        [ 5.1, 14. ,  9. ,  1. ,  0. ],\n",
       "        [ 3.2, 14. ,  8. ,  1. ,  0. ],\n",
       "        [ 1.1, 14. ,  8. ,  2. ,  0. ],\n",
       "        [ 6.1, 14. ,  7. ,  2. ,  0. ],\n",
       "        [ 4.1, 14. ,  7. ,  2. ,  0. ],\n",
       "        [ 6.2, 14. ,  6. ,  2. ,  0. ],\n",
       "        [ 3.2, 14. ,  6. ,  2. ,  0. ],\n",
       "        [ 7.1, 14. ,  5. ,  2. ,  0. ],\n",
       "        [ 7.2, 14. ,  4. ,  2. ,  0. ],\n",
       "        [ 7.1, 12. ,  4. ,  2. ,  0. ],\n",
       "        [ 5.1, 12. ,  4. ,  2. ,  0. ],\n",
       "        [ 1.2, 12. ,  3. ,  2. ,  0. ],\n",
       "        [ 3.2, 12. ,  3. ,  3. ,  0. ],\n",
       "        [ 5.2, 12. ,  2. ,  3. ,  0. ],\n",
       "        [ 3.1, 12. ,  2. ,  3. ,  0. ],\n",
       "        [ 3.2, 10. ,  2. ,  4. ,  0. ],\n",
       "        [ 5.1, 10. ,  2. ,  4. ,  0. ],\n",
       "        [ 5.2,  8. ,  2. ,  4. ,  0. ],\n",
       "        [ 4.2,  8. ,  1. ,  4. ,  0. ],\n",
       "        [ 6.1,  8. ,  1. ,  4. ,  0. ],\n",
       "        [ 6.2,  8. ,  1. ,  4. ,  0. ],\n",
       "        [ 6.1,  6. ,  1. ,  4. ,  0. ],\n",
       "        [ 2.2,  6. ,  0. ,  4. ,  0. ],\n",
       "        [ 4.1,  6. ,  0. ,  4. ,  0. ],\n",
       "        [ 1.1,  6. ,  0. ,  4. ,  0. ],\n",
       "        [ 2.1,  6. ,  0. ,  4. ,  0. ],\n",
       "        [ 4.1,  6. ,  0. ,  4. ,  0. ],\n",
       "        [ 1.2,  6. ,  0. ,  4. ,  0. ],\n",
       "        [ 2.2,  6. ,  0. ,  4. ,  0. ],\n",
       "        [ 2.1,  4. ,  0. ,  4. ,  0. ],\n",
       "        [ 4.2,  4. ,  0. ,  4. ,  0. ],\n",
       "        [ 1.1,  4. ,  0. ,  4. ,  0. ],\n",
       "        [ 4.1,  4. ,  0. ,  5. ,  0. ],\n",
       "        [ 4.2,  2. ,  0. ,  5. ,  0. ],\n",
       "        [ 1.1,  2. ,  0. ,  5. ,  0. ],\n",
       "        [ 1.2,  0. ,  0. ,  5. ,  0. ]],\n",
       "\n",
       "       [[ 1.1, 14. , 13. ,  1. ,  0. ],\n",
       "        [ 2.1, 14. , 12. ,  1. ,  0. ],\n",
       "        [ 3.1, 14. , 11. ,  1. ,  0. ],\n",
       "        [ 4.1, 14. , 10. ,  1. ,  0. ],\n",
       "        [ 2.2, 14. ,  9. ,  1. ,  0. ],\n",
       "        [ 2.1, 12. ,  9. ,  2. ,  0. ],\n",
       "        [ 5.1, 12. ,  8. ,  2. ,  0. ],\n",
       "        [ 6.1, 12. ,  7. ,  2. ,  0. ],\n",
       "        [ 5.2, 12. ,  6. ,  2. ,  0. ],\n",
       "        [ 5.1, 10. ,  6. ,  2. ,  0. ],\n",
       "        [ 3.2, 10. ,  5. ,  2. ,  0. ],\n",
       "        [ 3.1,  8. ,  5. ,  2. ,  0. ],\n",
       "        [ 7.1,  8. ,  4. ,  2. ,  0. ],\n",
       "        [ 6.1,  8. ,  4. ,  2. ,  0. ],\n",
       "        [ 1.2,  8. ,  3. ,  2. ,  0. ],\n",
       "        [ 1.1,  6. ,  3. ,  2. ,  0. ],\n",
       "        [ 7.2,  6. ,  2. ,  2. ,  0. ],\n",
       "        [ 7.1,  4. ,  2. ,  2. ,  0. ],\n",
       "        [ 6.2,  4. ,  1. ,  2. ,  0. ],\n",
       "        [ 6.1,  2. ,  1. ,  3. ,  0. ],\n",
       "        [ 4.2,  2. ,  0. ,  3. ,  0. ],\n",
       "        [ 4.1,  0. ,  0. ,  3. ,  0. ],\n",
       "        [ 0. ,  0. ,  0. ,  3. ,  1. ],\n",
       "        [ 0. ,  0. ,  0. ,  3. ,  2. ],\n",
       "        [ 0. ,  0. ,  0. ,  3. ,  3. ],\n",
       "        [ 0. ,  0. ,  0. ,  3. ,  4. ],\n",
       "        [ 0. ,  0. ,  0. ,  3. ,  5. ],\n",
       "        [ 0. ,  0. ,  0. ,  3. ,  6. ],\n",
       "        [ 0. ,  0. ,  0. ,  3. ,  7. ],\n",
       "        [ 0. ,  0. ,  0. ,  3. ,  8. ],\n",
       "        [ 0. ,  0. ,  0. ,  3. ,  9. ],\n",
       "        [ 0. ,  0. ,  0. ,  3. , 10. ],\n",
       "        [ 0. ,  0. ,  0. ,  3. , 11. ],\n",
       "        [ 0. ,  0. ,  0. ,  3. , 12. ],\n",
       "        [ 0. ,  0. ,  0. ,  3. , 13. ],\n",
       "        [ 0. ,  0. ,  0. ,  3. , 14. ],\n",
       "        [ 0. ,  0. ,  0. ,  3. , 15. ],\n",
       "        [ 0. ,  0. ,  0. ,  3. , 16. ],\n",
       "        [ 0. ,  0. ,  0. ,  3. , 17. ],\n",
       "        [ 0. ,  0. ,  0. ,  3. , 18. ]]])"
      ]
     },
     "execution_count": 1340,
     "metadata": {},
     "output_type": "execute_result"
    }
   ],
   "source": [
    "X_test[:3]"
   ]
  },
  {
   "cell_type": "code",
   "execution_count": 1341,
   "metadata": {},
   "outputs": [
    {
     "data": {
      "text/plain": [
       "array([[0., 1.],\n",
       "       [0., 1.],\n",
       "       [0., 1.]], dtype=float32)"
      ]
     },
     "execution_count": 1341,
     "metadata": {},
     "output_type": "execute_result"
    }
   ],
   "source": [
    "y_train[:3]"
   ]
  },
  {
   "cell_type": "code",
   "execution_count": 1342,
   "metadata": {},
   "outputs": [
    {
     "data": {
      "text/plain": [
       "array([[1., 0.],\n",
       "       [1., 0.],\n",
       "       [1., 0.]], dtype=float32)"
      ]
     },
     "execution_count": 1342,
     "metadata": {},
     "output_type": "execute_result"
    }
   ],
   "source": [
    "y_test[:3]"
   ]
  },
  {
   "cell_type": "code",
   "execution_count": 1343,
   "metadata": {},
   "outputs": [
    {
     "data": {
      "text/plain": [
       "(30, 40, 5)"
      ]
     },
     "execution_count": 1343,
     "metadata": {},
     "output_type": "execute_result"
    }
   ],
   "source": [
    "X_train.shape"
   ]
  },
  {
   "cell_type": "code",
   "execution_count": 1344,
   "metadata": {},
   "outputs": [
    {
     "data": {
      "text/plain": [
       "(10, 40, 5)"
      ]
     },
     "execution_count": 1344,
     "metadata": {},
     "output_type": "execute_result"
    }
   ],
   "source": [
    "X_test.shape"
   ]
  },
  {
   "cell_type": "code",
   "execution_count": 1345,
   "metadata": {},
   "outputs": [
    {
     "data": {
      "text/plain": [
       "(30, 2)"
      ]
     },
     "execution_count": 1345,
     "metadata": {},
     "output_type": "execute_result"
    }
   ],
   "source": [
    "y_train.shape"
   ]
  },
  {
   "cell_type": "code",
   "execution_count": 1346,
   "metadata": {},
   "outputs": [
    {
     "data": {
      "text/plain": [
       "(10, 2)"
      ]
     },
     "execution_count": 1346,
     "metadata": {},
     "output_type": "execute_result"
    }
   ],
   "source": [
    "y_test.shape"
   ]
  },
  {
   "cell_type": "code",
   "execution_count": 1347,
   "metadata": {},
   "outputs": [],
   "source": [
    "opt = keras.optimizers.Adam(learning_rate=0.00001)"
   ]
  },
  {
   "cell_type": "code",
   "execution_count": 1348,
   "metadata": {},
   "outputs": [],
   "source": [
    "seed = 7\n",
    "np.random.seed(seed)\n",
    "kfold = StratifiedKFold(n_splits=20, shuffle=True, random_state=seed)\n",
    "histories = []\n",
    "scores = []\n",
    "n_epochs = 200"
   ]
  },
  {
   "cell_type": "code",
   "execution_count": 1349,
   "metadata": {},
   "outputs": [],
   "source": [
    "def create_and_train(train, test, n_epochs=n_epochs):\n",
    "    verbose, epochs, batch_size = 0, n_epochs, 32 \n",
    "    n_timesteps, n_features, n_outputs = X_train.shape[1], X_train.shape[2], y_train.shape[1]\n",
    "    model = Sequential()\n",
    "    model.add(Conv1D(filters=32, kernel_size=5, activation='relu', input_shape=(n_timesteps,n_features))) # filters=64 kernel_size=3\n",
    "    model.add(Conv1D(filters=32, kernel_size=5, activation='relu')) # filters=64 kernel_size=3\n",
    "    model.add(Dropout(0.5))\n",
    "    model.add(MaxPooling1D(pool_size=2))\n",
    "    model.add(Flatten())\n",
    "    model.add(Dense(100, activation='relu'))\n",
    "    model.add(Dense(n_outputs, activation='softmax'))\n",
    "    model.compile(loss='categorical_crossentropy', optimizer=opt, metrics=['accuracy'])\n",
    "    history = model.fit(X_realData[train], y_realData[train], epochs=epochs, batch_size=batch_size, verbose=verbose, \n",
    "                        shuffle=True, validation_data=(X_realData[test], y_realData[test]))\n",
    "    histories.append(history)\n",
    "    score = model.evaluate(X_realData[test], y_realData[test], batch_size=batch_size, verbose=0)\n",
    "    scores.append(score)"
   ]
  },
  {
   "cell_type": "code",
   "execution_count": 1350,
   "metadata": {},
   "outputs": [],
   "source": [
    "for i, (train_index, val_index) in enumerate(kfold.split(X_realData, y_realData.argmax(1))):\n",
    "    create_and_train(train_index, val_index)"
   ]
  },
  {
   "cell_type": "code",
   "execution_count": 1351,
   "metadata": {},
   "outputs": [
    {
     "data": {
      "text/plain": [
       "dict_keys(['val_loss', 'val_accuracy', 'loss', 'accuracy'])"
      ]
     },
     "execution_count": 1351,
     "metadata": {},
     "output_type": "execute_result"
    }
   ],
   "source": [
    "histories[1].history.keys()"
   ]
  },
  {
   "cell_type": "code",
   "execution_count": 1352,
   "metadata": {},
   "outputs": [],
   "source": [
    "def mean_score(histories=histories, epochs=n_epochs):\n",
    "    mean_val_losses = []\n",
    "    mean_val_accuracies = []\n",
    "    mean_losses = []\n",
    "    mean_accuracies = []\n",
    "    for i in range(epochs):\n",
    "        val_losses = []\n",
    "        val_accuracies = []\n",
    "        losses = []\n",
    "        accuracies = []\n",
    "        for l in range(len(histories)):\n",
    "            history = histories[l]\n",
    "            val_losses.append(history.history['val_loss'][i])\n",
    "            val_accuracies.append(history.history['val_accuracy'][i])\n",
    "            losses.append(history.history['loss'][i])\n",
    "            accuracies.append(history.history['accuracy'][i])\n",
    "        mean_val_losses.append(np.mean(val_losses))\n",
    "        mean_val_accuracies.append(np.mean(val_accuracies))\n",
    "        mean_losses.append(np.mean(losses))\n",
    "        mean_accuracies.append(np.mean(accuracies))\n",
    "    return mean_val_losses, mean_val_accuracies, mean_losses, mean_accuracies"
   ]
  },
  {
   "cell_type": "code",
   "execution_count": 1353,
   "metadata": {},
   "outputs": [],
   "source": [
    "mean_val_losses, mean_val_accuracies, mean_losses, mean_accuracies = mean_score()"
   ]
  },
  {
   "cell_type": "code",
   "execution_count": 1354,
   "metadata": {},
   "outputs": [
    {
     "data": {
      "image/png": "[encoded data removed]",
      "text/plain": [
       "<Figure size 432x288 with 1 Axes>"
      ]
     },
     "metadata": {
      "needs_background": "light"
     },
     "output_type": "display_data"
    }
   ],
   "source": [
    "plt.title('model accuracy')\n",
    "plt.plot(mean_accuracies)\n",
    "plt.plot(mean_val_accuracies)\n",
    "plt.ylabel('accuracy')\n",
    "plt.xlabel('epoch')\n",
    "plt.legend(['train', 'test'], loc='lower right')\n",
    "plt.show()"
   ]
  },
  {
   "cell_type": "code",
   "execution_count": 1355,
   "metadata": {},
   "outputs": [
    {
     "data": {
      "image/png": "[encoded data removed]",
      "text/plain": [
       "<Figure size 432x288 with 1 Axes>"
      ]
     },
     "metadata": {
      "needs_background": "light"
     },
     "output_type": "display_data"
    }
   ],
   "source": [
    "plt.title('model loss')\n",
    "plt.plot(mean_losses)\n",
    "plt.plot(mean_val_losses)\n",
    "plt.ylabel('loss')\n",
    "plt.xlabel('epoch')\n",
    "plt.legend(['train', 'test'], loc='upper right')\n",
    "plt.show()"
   ]
  },
  {
   "cell_type": "code",
   "execution_count": 1356,
   "metadata": {},
   "outputs": [
    {
     "data": {
      "text/plain": [
       "0.77105254"
      ]
     },
     "execution_count": 1356,
     "metadata": {},
     "output_type": "execute_result"
    }
   ],
   "source": [
    "final_mean_accuracy = mean_accuracies[-1]\n",
    "final_mean_accuracy"
   ]
  },
  {
   "cell_type": "code",
   "execution_count": 1357,
   "metadata": {},
   "outputs": [
    {
     "data": {
      "text/plain": [
       "0.8"
      ]
     },
     "execution_count": 1357,
     "metadata": {},
     "output_type": "execute_result"
    }
   ],
   "source": [
    "final_mean_val_accuracy = mean_val_accuracies[-1]\n",
    "final_mean_val_accuracy"
   ]
  },
  {
   "cell_type": "code",
   "execution_count": 1358,
   "metadata": {},
   "outputs": [
    {
     "data": {
      "text/plain": [
       "[0.775,\n",
       " 0.775,\n",
       " 0.775,\n",
       " 0.775,\n",
       " 0.775,\n",
       " 0.775,\n",
       " 0.775,\n",
       " 0.775,\n",
       " 0.775,\n",
       " 0.8,\n",
       " 0.8,\n",
       " 0.8,\n",
       " 0.8,\n",
       " 0.8,\n",
       " 0.8,\n",
       " 0.8,\n",
       " 0.8,\n",
       " 0.8,\n",
       " 0.8,\n",
       " 0.8,\n",
       " 0.8,\n",
       " 0.8,\n",
       " 0.8,\n",
       " 0.8,\n",
       " 0.8,\n",
       " 0.8,\n",
       " 0.8,\n",
       " 0.8,\n",
       " 0.8,\n",
       " 0.8,\n",
       " 0.8,\n",
       " 0.8,\n",
       " 0.8,\n",
       " 0.8,\n",
       " 0.8,\n",
       " 0.8,\n",
       " 0.8,\n",
       " 0.8,\n",
       " 0.8,\n",
       " 0.8]"
      ]
     },
     "execution_count": 1358,
     "metadata": {},
     "output_type": "execute_result"
    }
   ],
   "source": [
    "mean_val_accuracies[160:240]"
   ]
  }
 ],
 "metadata": {
  "kernelspec": {
   "display_name": "Python 3",
   "language": "python",
   "name": "python3"
  },
  "language_info": {
   "codemirror_mode": {
    "name": "ipython",
    "version": 3
   },
   "file_extension": ".py",
   "mimetype": "text/x-python",
   "name": "python",
   "nbconvert_exporter": "python",
   "pygments_lexer": "ipython3",
   "version": "3.7.6"
  }
 },
 "nbformat": 4,
 "nbformat_minor": 4
}
